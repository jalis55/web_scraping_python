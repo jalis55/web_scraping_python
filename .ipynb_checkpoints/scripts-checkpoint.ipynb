{
 "cells": [
  {
   "cell_type": "code",
   "execution_count": 31,
   "id": "b4dc91f4",
   "metadata": {},
   "outputs": [],
   "source": [
    "import requests\n",
    "from bs4 import BeautifulSoup\n",
    "import multiprocessing as mp\n",
    "\n"
   ]
  },
  {
   "cell_type": "code",
   "execution_count": 32,
   "id": "2db15e4a",
   "metadata": {},
   "outputs": [],
   "source": [
    "def scraper(year,gender,page):\n",
    "    print(\"jjjjjjjjjjjjjjjjjjjjjjjjjjjjjjjjj\")\n",
    "    data={}\n",
    "    url=f'https://www.swimcloud.com/recruiting/rankings/{year}/{gender}/?page={page}'\n",
    "    response=requests.get(url)\n",
    "    page_content=BeautifulSoup(response.content,'html.parser')\n",
    "    all_names=page_content.findAll('a',attrs={'class':'u-text-semi'})\n",
    "    individual_profile='https://www.swimcloud.com'+all_names[0]['href']\n",
    "    individual_profile_content=requests.get(individual_profile).content\n",
    "    individual_profile_data=BeautifulSoup(individual_profile_content,'html.parser')\n",
    "    individual_profile_data_year=individual_profile_data.find('p',attrs={'class':'c-list-bar__description'}).text\n",
    "    data['year']=individual_profile_data_year\n",
    "    individual_profile_data_name=individual_profile_data.find('span',attrs={'class':'u-mr-'}).text\n",
    "    name=individual_profile_data_name.split(' ')\n",
    "    data['first name']=name[0]\n",
    "    data['last name']=''.join(name[1:])\n",
    "    individual_profile_data_country=individual_profile_data.find('h5',attrs={'class':'c-link-boxes-item__primary-text'}).text\n",
    "    data['country']=individual_profile_data_country.replace('  ','').replace('\\n','')\n",
    "    individual_profile_data_details=individual_profile_data.select('ul[class=\"o-list-inline o-list-inline--dotted\"] li')\n",
    "    individual_profile_data_location=individual_profile_data_details[0].text\n",
    "    location=individual_profile_data_location.split(',')\n",
    "    data['city']=location[0]\n",
    "    data['state']=location[1]\n",
    "    individual_profile_data_club=individual_profile_data_details[1].text\n",
    "    data['club']=individual_profile_data_club.replace('\\n','')\n",
    "    try:\n",
    "        individual_profile_data_instagram=individual_profile_data_details[3].find('a')['href']\n",
    "        data['instagram']=individual_profile_data_instagram\n",
    "    except:\n",
    "        data['instagram']=None\n",
    "    individual_powerindex=individual_profile +'/powerindex'\n",
    "    individual_powerindex=requests.get(individual_powerindex).content\n",
    "    individual_powerindex_details=BeautifulSoup(individual_powerindex,'html.parser')\n",
    "    event_tds=individual_powerindex_details.select('tr td[class=\"u-text-truncate u-text-semi\"]')[:3]\n",
    "    time_tds=individual_powerindex_details.select('tr td[class=\"c-table-clean__time u-text-semi\"]')[:3]\n",
    "    data['event-1']=event_tds[0].text\n",
    "    data['event-1 time']=time_tds[0].text\n",
    "    data['event-2']=event_tds[1].text\n",
    "    data['event-2 time']=time_tds[1].text\n",
    "    data['event-3']=event_tds[2].text\n",
    "    data['event-3 time']=time_tds[2].text\n",
    "    \n",
    "    \n",
    "    return data\n"
   ]
  },
  {
   "cell_type": "code",
   "execution_count": 30,
   "id": "1cd482c2",
   "metadata": {},
   "outputs": [],
   "source": [
    "\n",
    "    \n",
    "    "
   ]
  },
  {
   "cell_type": "code",
   "execution_count": null,
   "id": "bff541ca",
   "metadata": {},
   "outputs": [],
   "source": []
  },
  {
   "cell_type": "code",
   "execution_count": null,
   "id": "54b7e54d",
   "metadata": {},
   "outputs": [],
   "source": []
  },
  {
   "cell_type": "code",
   "execution_count": null,
   "id": "cfcb997a",
   "metadata": {},
   "outputs": [],
   "source": []
  },
  {
   "cell_type": "code",
   "execution_count": 35,
   "id": "19bd2ab5",
   "metadata": {},
   "outputs": [],
   "source": [
    "def main():\n",
    "    Year=input(\"Enter year:\")\n",
    "    gender=input(\"Enter gender..M/W:\")\n",
    "    total_dataset=[]\n",
    "    total_dataset.append(scraper(year,gender,1))\n",
    "    total_dataset.append(scraper(year,gender,2))\n",
    "    total_dataset.append(scraper(year,gender,3))\n",
    "    \n",
    "    print(total_dataset)\n",
    "    \n",
    "    "
   ]
  },
  {
   "cell_type": "code",
   "execution_count": 36,
   "id": "1bd239ba",
   "metadata": {},
   "outputs": [
    {
     "name": "stdout",
     "output_type": "stream",
     "text": [
      "Enter year:2025\n",
      "Enter gender..M/W:M\n",
      "jjjjjjjjjjjjjjjjjjjjjjjjjjjjjjjjj\n",
      "jjjjjjjjjjjjjjjjjjjjjjjjjjjjjjjjj\n"
     ]
    },
    {
     "ename": "TypeError",
     "evalue": "'NoneType' object is not subscriptable",
     "output_type": "error",
     "traceback": [
      "\u001b[1;31m---------------------------------------------------------------------------\u001b[0m",
      "\u001b[1;31mTypeError\u001b[0m                                 Traceback (most recent call last)",
      "\u001b[1;32m~\\AppData\\Local\\Temp\\ipykernel_11520\\451043146.py\u001b[0m in \u001b[0;36m<module>\u001b[1;34m\u001b[0m\n\u001b[1;32m----> 1\u001b[1;33m \u001b[0mmain\u001b[0m\u001b[1;33m(\u001b[0m\u001b[1;33m)\u001b[0m\u001b[1;33m\u001b[0m\u001b[1;33m\u001b[0m\u001b[0m\n\u001b[0m",
      "\u001b[1;32m~\\AppData\\Local\\Temp\\ipykernel_11520\\1205507277.py\u001b[0m in \u001b[0;36mmain\u001b[1;34m()\u001b[0m\n\u001b[0;32m      4\u001b[0m     \u001b[0mtotal_dataset\u001b[0m\u001b[1;33m=\u001b[0m\u001b[1;33m[\u001b[0m\u001b[1;33m]\u001b[0m\u001b[1;33m\u001b[0m\u001b[1;33m\u001b[0m\u001b[0m\n\u001b[0;32m      5\u001b[0m     \u001b[0mtotal_dataset\u001b[0m\u001b[1;33m.\u001b[0m\u001b[0mappend\u001b[0m\u001b[1;33m(\u001b[0m\u001b[0mscraper\u001b[0m\u001b[1;33m(\u001b[0m\u001b[0myear\u001b[0m\u001b[1;33m,\u001b[0m\u001b[0mgender\u001b[0m\u001b[1;33m,\u001b[0m\u001b[1;36m1\u001b[0m\u001b[1;33m)\u001b[0m\u001b[1;33m)\u001b[0m\u001b[1;33m\u001b[0m\u001b[1;33m\u001b[0m\u001b[0m\n\u001b[1;32m----> 6\u001b[1;33m     \u001b[0mtotal_dataset\u001b[0m\u001b[1;33m.\u001b[0m\u001b[0mappend\u001b[0m\u001b[1;33m(\u001b[0m\u001b[0mscraper\u001b[0m\u001b[1;33m(\u001b[0m\u001b[0myear\u001b[0m\u001b[1;33m,\u001b[0m\u001b[0mgender\u001b[0m\u001b[1;33m,\u001b[0m\u001b[1;36m2\u001b[0m\u001b[1;33m)\u001b[0m\u001b[1;33m)\u001b[0m\u001b[1;33m\u001b[0m\u001b[1;33m\u001b[0m\u001b[0m\n\u001b[0m\u001b[0;32m      7\u001b[0m     \u001b[0mtotal_dataset\u001b[0m\u001b[1;33m.\u001b[0m\u001b[0mappend\u001b[0m\u001b[1;33m(\u001b[0m\u001b[0mscraper\u001b[0m\u001b[1;33m(\u001b[0m\u001b[0myear\u001b[0m\u001b[1;33m,\u001b[0m\u001b[0mgender\u001b[0m\u001b[1;33m,\u001b[0m\u001b[1;36m3\u001b[0m\u001b[1;33m)\u001b[0m\u001b[1;33m)\u001b[0m\u001b[1;33m\u001b[0m\u001b[1;33m\u001b[0m\u001b[0m\n\u001b[0;32m      8\u001b[0m \u001b[1;33m\u001b[0m\u001b[0m\n",
      "\u001b[1;32m~\\AppData\\Local\\Temp\\ipykernel_11520\\540437668.py\u001b[0m in \u001b[0;36mscraper\u001b[1;34m(year, gender, page)\u001b[0m\n\u001b[0;32m     24\u001b[0m     \u001b[0mindividual_profile_data_club\u001b[0m\u001b[1;33m=\u001b[0m\u001b[0mindividual_profile_data_details\u001b[0m\u001b[1;33m[\u001b[0m\u001b[1;36m1\u001b[0m\u001b[1;33m]\u001b[0m\u001b[1;33m.\u001b[0m\u001b[0mtext\u001b[0m\u001b[1;33m\u001b[0m\u001b[1;33m\u001b[0m\u001b[0m\n\u001b[0;32m     25\u001b[0m     \u001b[0mdata\u001b[0m\u001b[1;33m[\u001b[0m\u001b[1;34m'club'\u001b[0m\u001b[1;33m]\u001b[0m\u001b[1;33m=\u001b[0m\u001b[0mindividual_profile_data_club\u001b[0m\u001b[1;33m.\u001b[0m\u001b[0mreplace\u001b[0m\u001b[1;33m(\u001b[0m\u001b[1;34m'\\n'\u001b[0m\u001b[1;33m,\u001b[0m\u001b[1;34m''\u001b[0m\u001b[1;33m)\u001b[0m\u001b[1;33m\u001b[0m\u001b[1;33m\u001b[0m\u001b[0m\n\u001b[1;32m---> 26\u001b[1;33m     \u001b[0mindividual_profile_data_instagram\u001b[0m\u001b[1;33m=\u001b[0m\u001b[0mindividual_profile_data_details\u001b[0m\u001b[1;33m[\u001b[0m\u001b[1;36m3\u001b[0m\u001b[1;33m]\u001b[0m\u001b[1;33m.\u001b[0m\u001b[0mfind\u001b[0m\u001b[1;33m(\u001b[0m\u001b[1;34m'a'\u001b[0m\u001b[1;33m)\u001b[0m\u001b[1;33m[\u001b[0m\u001b[1;34m'href'\u001b[0m\u001b[1;33m]\u001b[0m\u001b[1;33m\u001b[0m\u001b[1;33m\u001b[0m\u001b[0m\n\u001b[0m\u001b[0;32m     27\u001b[0m     \u001b[0mdata\u001b[0m\u001b[1;33m[\u001b[0m\u001b[1;34m'instagram'\u001b[0m\u001b[1;33m]\u001b[0m\u001b[1;33m=\u001b[0m\u001b[0mindividual_profile_data_instagram\u001b[0m\u001b[1;33m\u001b[0m\u001b[1;33m\u001b[0m\u001b[0m\n\u001b[0;32m     28\u001b[0m     \u001b[0mindividual_powerindex\u001b[0m\u001b[1;33m=\u001b[0m\u001b[0mindividual_profile\u001b[0m \u001b[1;33m+\u001b[0m\u001b[1;34m'/powerindex'\u001b[0m\u001b[1;33m\u001b[0m\u001b[1;33m\u001b[0m\u001b[0m\n",
      "\u001b[1;31mTypeError\u001b[0m: 'NoneType' object is not subscriptable"
     ]
    }
   ],
   "source": [
    "main()"
   ]
  },
  {
   "cell_type": "code",
   "execution_count": null,
   "id": "eb3cc2c5",
   "metadata": {},
   "outputs": [],
   "source": []
  }
 ],
 "metadata": {
  "kernelspec": {
   "display_name": "Python 3 (ipykernel)",
   "language": "python",
   "name": "python3"
  },
  "language_info": {
   "codemirror_mode": {
    "name": "ipython",
    "version": 3
   },
   "file_extension": ".py",
   "mimetype": "text/x-python",
   "name": "python",
   "nbconvert_exporter": "python",
   "pygments_lexer": "ipython3",
   "version": "3.9.13"
  }
 },
 "nbformat": 4,
 "nbformat_minor": 5
}
