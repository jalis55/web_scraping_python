{
 "cells": [
  {
   "cell_type": "code",
   "execution_count": 183,
   "id": "4506d38b",
   "metadata": {},
   "outputs": [],
   "source": [
    "from selenium import webdriver\n",
    "from selenium.webdriver import Chrome\n",
    "from selenium.webdriver.common.by import By\n",
    "import pyperclip"
   ]
  },
  {
   "cell_type": "code",
   "execution_count": 184,
   "id": "fe86e7d3",
   "metadata": {},
   "outputs": [],
   "source": [
    "driver=Chrome()\n",
    "driver.get('https://www.swimcloud.com/login/')\n",
    "driver.maximize_window()"
   ]
  },
  {
   "cell_type": "code",
   "execution_count": 185,
   "id": "1ea4b206",
   "metadata": {},
   "outputs": [],
   "source": [
    "username= driver.find_element(By.XPATH, \"//input[@id='id_username']\").send_keys('Jsossa@unc.edu')\n",
    "password= driver.find_element(By.XPATH, \"//input[@id='id_password']\").send_keys('Bonterra298')\n",
    "submit_btn=driver.find_element(By.XPATH, \"//button[@type='submit']\")\n",
    "submit_btn.click()"
   ]
  },
  {
   "cell_type": "code",
   "execution_count": 186,
   "id": "e593f92d",
   "metadata": {},
   "outputs": [],
   "source": [
    "recruiting_btn=driver.find_element(By.XPATH, \"//a[@class='c-nav__item '][5]\")\n",
    "recruiting_btn.click()"
   ]
  },
  {
   "cell_type": "code",
   "execution_count": 187,
   "id": "3a775697",
   "metadata": {},
   "outputs": [],
   "source": [
    "ranking_btn=driver.find_element(By.XPATH, \"//a[@href='/recruiting/rankings/']\")\n",
    "ranking_btn.click()"
   ]
  },
  {
   "cell_type": "code",
   "execution_count": 188,
   "id": "356708ea",
   "metadata": {},
   "outputs": [],
   "source": [
    "all_profiles=driver.find_elements(By.XPATH, \"//a[@class='u-text-semi']\")"
   ]
  },
  {
   "cell_type": "code",
   "execution_count": 189,
   "id": "27695322",
   "metadata": {},
   "outputs": [],
   "source": [
    "all_profiles[0].click()"
   ]
  },
  {
   "cell_type": "code",
   "execution_count": 190,
   "id": "71125f59",
   "metadata": {},
   "outputs": [],
   "source": [
    "state=driver.find_elements(By.XPATH, \"//ul[@class='o-list-inline o-list-inline--dotted']/li\")"
   ]
  },
  {
   "cell_type": "code",
   "execution_count": 191,
   "id": "1a64af14",
   "metadata": {},
   "outputs": [
    {
     "data": {
      "text/plain": [
       "'Crozet, VA'"
      ]
     },
     "execution_count": 191,
     "metadata": {},
     "output_type": "execute_result"
    }
   ],
   "source": [
    "state[0].text"
   ]
  },
  {
   "cell_type": "code",
   "execution_count": 192,
   "id": "56487820",
   "metadata": {},
   "outputs": [
    {
     "data": {
      "text/plain": [
       "'Cavalier Aquatics/Piedmont Family YMCA'"
      ]
     },
     "execution_count": 192,
     "metadata": {},
     "output_type": "execute_result"
    }
   ],
   "source": [
    "state[1].text"
   ]
  },
  {
   "cell_type": "code",
   "execution_count": 193,
   "id": "d8098f0e",
   "metadata": {},
   "outputs": [],
   "source": [
    "instagram=driver.find_element(By.XPATH, \"//a[@class='btn-icon-plain']\").get_attribute('href')"
   ]
  },
  {
   "cell_type": "code",
   "execution_count": 194,
   "id": "359ca103",
   "metadata": {},
   "outputs": [
    {
     "data": {
      "text/plain": [
       "'https://instagram.com/thomas_heilman_'"
      ]
     },
     "execution_count": 194,
     "metadata": {},
     "output_type": "execute_result"
    }
   ],
   "source": [
    "instagram"
   ]
  },
  {
   "cell_type": "code",
   "execution_count": 195,
   "id": "e3eebcb5",
   "metadata": {},
   "outputs": [],
   "source": [
    "\n",
    "name=driver.find_element(By.XPATH, \"//h1[@class='c-toolbar__title u-flex u-flex-align-items-center']\")\n"
   ]
  },
  {
   "cell_type": "code",
   "execution_count": 196,
   "id": "917c5b45",
   "metadata": {
    "scrolled": true
   },
   "outputs": [
    {
     "data": {
      "text/plain": [
       "'Thomas Heilman'"
      ]
     },
     "execution_count": 196,
     "metadata": {},
     "output_type": "execute_result"
    }
   ],
   "source": [
    "name.text"
   ]
  },
  {
   "cell_type": "code",
   "execution_count": 197,
   "id": "3e5cb9c4",
   "metadata": {},
   "outputs": [],
   "source": [
    "power_index=driver.find_element(By.XPATH, \"//a[@class='c-list-bar__description']\")\n"
   ]
  },
  {
   "cell_type": "code",
   "execution_count": 198,
   "id": "a1e9a244",
   "metadata": {},
   "outputs": [],
   "source": [
    "power_index.click()"
   ]
  },
  {
   "cell_type": "code",
   "execution_count": 199,
   "id": "53824797",
   "metadata": {},
   "outputs": [],
   "source": [
    "events_name=driver.find_elements(By.XPATH,\"//td[@class='u-text-truncate u-text-semi']\")"
   ]
  },
  {
   "cell_type": "code",
   "execution_count": 201,
   "id": "0526cefa",
   "metadata": {},
   "outputs": [
    {
     "data": {
      "text/plain": [
       "'100 L Free'"
      ]
     },
     "execution_count": 201,
     "metadata": {},
     "output_type": "execute_result"
    }
   ],
   "source": [
    "events_name[3].text"
   ]
  },
  {
   "cell_type": "code",
   "execution_count": 143,
   "id": "99f24162",
   "metadata": {},
   "outputs": [],
   "source": [
    "events_time=driver.find_elements(By.XPATH,\"//td[@class='c-table-clean__time u-text-semi']\")\n"
   ]
  },
  {
   "cell_type": "code",
   "execution_count": 146,
   "id": "ae38d7b7",
   "metadata": {},
   "outputs": [
    {
     "data": {
      "text/plain": [
       "'44.67'"
      ]
     },
     "execution_count": 146,
     "metadata": {},
     "output_type": "execute_result"
    }
   ],
   "source": [
    "events_time[2].text"
   ]
  },
  {
   "cell_type": "code",
   "execution_count": 207,
   "id": "4d94ddec",
   "metadata": {},
   "outputs": [],
   "source": [
    "# Recruiting\n",
    "recruiting=driver.find_element(By.XPATH,\"//nav[@class='c-nav c-nav--inline c-nav--responsive']/a[5]\")\n",
    "recruiting.click()"
   ]
  },
  {
   "cell_type": "code",
   "execution_count": 204,
   "id": "3eebd1ab",
   "metadata": {},
   "outputs": [
    {
     "ename": "NoSuchElementException",
     "evalue": "Message: no such element: Unable to locate element: {\"method\":\"xpath\",\"selector\":\"//button[@class='btn btn-primary']\"}\n  (Session info: chrome=111.0.5563.147)\nStacktrace:\nBacktrace:\n\t(No symbol) [0x00C5DCE3]\n\t(No symbol) [0x00BF39D1]\n\t(No symbol) [0x00B04DA8]\n\t(No symbol) [0x00B3019F]\n\t(No symbol) [0x00B303AB]\n\t(No symbol) [0x00B5EE62]\n\t(No symbol) [0x00B4AF14]\n\t(No symbol) [0x00B5D57C]\n\t(No symbol) [0x00B4ACC6]\n\t(No symbol) [0x00B26F68]\n\t(No symbol) [0x00B280CD]\n\tGetHandleVerifier [0x00ED3832+2506274]\n\tGetHandleVerifier [0x00F09794+2727300]\n\tGetHandleVerifier [0x00F0E36C+2746716]\n\tGetHandleVerifier [0x00D06690+617600]\n\t(No symbol) [0x00BFC712]\n\t(No symbol) [0x00C01FF8]\n\t(No symbol) [0x00C020DB]\n\t(No symbol) [0x00C0C63B]\n\tBaseThreadInitThunk [0x76D97D69+25]\n\tRtlInitializeExceptionChain [0x77DDB74B+107]\n\tRtlClearBits [0x77DDB6CF+191]\n",
     "output_type": "error",
     "traceback": [
      "\u001b[1;31m---------------------------------------------------------------------------\u001b[0m",
      "\u001b[1;31mNoSuchElementException\u001b[0m                    Traceback (most recent call last)",
      "\u001b[1;32m~\\AppData\\Local\\Temp\\ipykernel_11520\\757872831.py\u001b[0m in \u001b[0;36m<module>\u001b[1;34m\u001b[0m\n\u001b[1;32m----> 1\u001b[1;33m \u001b[0mcontacts\u001b[0m\u001b[1;33m=\u001b[0m\u001b[0mdriver\u001b[0m\u001b[1;33m.\u001b[0m\u001b[0mfind_element\u001b[0m\u001b[1;33m(\u001b[0m\u001b[0mBy\u001b[0m\u001b[1;33m.\u001b[0m\u001b[0mXPATH\u001b[0m\u001b[1;33m,\u001b[0m\u001b[1;34m\"//button[@class='btn btn-primary']\"\u001b[0m\u001b[1;33m)\u001b[0m\u001b[1;33m\u001b[0m\u001b[1;33m\u001b[0m\u001b[0m\n\u001b[0m\u001b[0;32m      2\u001b[0m \u001b[0mcontacts\u001b[0m\u001b[1;33m.\u001b[0m\u001b[0mclick\u001b[0m\u001b[1;33m(\u001b[0m\u001b[1;33m)\u001b[0m\u001b[1;33m\u001b[0m\u001b[1;33m\u001b[0m\u001b[0m\n",
      "\u001b[1;32m~\\Anaconda3\\lib\\site-packages\\selenium\\webdriver\\remote\\webdriver.py\u001b[0m in \u001b[0;36mfind_element\u001b[1;34m(self, by, value)\u001b[0m\n\u001b[0;32m    828\u001b[0m             \u001b[0mvalue\u001b[0m \u001b[1;33m=\u001b[0m \u001b[1;34mf'[name=\"{value}\"]'\u001b[0m\u001b[1;33m\u001b[0m\u001b[1;33m\u001b[0m\u001b[0m\n\u001b[0;32m    829\u001b[0m \u001b[1;33m\u001b[0m\u001b[0m\n\u001b[1;32m--> 830\u001b[1;33m         \u001b[1;32mreturn\u001b[0m \u001b[0mself\u001b[0m\u001b[1;33m.\u001b[0m\u001b[0mexecute\u001b[0m\u001b[1;33m(\u001b[0m\u001b[0mCommand\u001b[0m\u001b[1;33m.\u001b[0m\u001b[0mFIND_ELEMENT\u001b[0m\u001b[1;33m,\u001b[0m \u001b[1;33m{\u001b[0m\u001b[1;34m\"using\"\u001b[0m\u001b[1;33m:\u001b[0m \u001b[0mby\u001b[0m\u001b[1;33m,\u001b[0m \u001b[1;34m\"value\"\u001b[0m\u001b[1;33m:\u001b[0m \u001b[0mvalue\u001b[0m\u001b[1;33m}\u001b[0m\u001b[1;33m)\u001b[0m\u001b[1;33m[\u001b[0m\u001b[1;34m\"value\"\u001b[0m\u001b[1;33m]\u001b[0m\u001b[1;33m\u001b[0m\u001b[1;33m\u001b[0m\u001b[0m\n\u001b[0m\u001b[0;32m    831\u001b[0m \u001b[1;33m\u001b[0m\u001b[0m\n\u001b[0;32m    832\u001b[0m     \u001b[1;32mdef\u001b[0m \u001b[0mfind_elements\u001b[0m\u001b[1;33m(\u001b[0m\u001b[0mself\u001b[0m\u001b[1;33m,\u001b[0m \u001b[0mby\u001b[0m\u001b[1;33m=\u001b[0m\u001b[0mBy\u001b[0m\u001b[1;33m.\u001b[0m\u001b[0mID\u001b[0m\u001b[1;33m,\u001b[0m \u001b[0mvalue\u001b[0m\u001b[1;33m:\u001b[0m \u001b[0mOptional\u001b[0m\u001b[1;33m[\u001b[0m\u001b[0mstr\u001b[0m\u001b[1;33m]\u001b[0m \u001b[1;33m=\u001b[0m \u001b[1;32mNone\u001b[0m\u001b[1;33m)\u001b[0m \u001b[1;33m->\u001b[0m \u001b[0mList\u001b[0m\u001b[1;33m[\u001b[0m\u001b[0mWebElement\u001b[0m\u001b[1;33m]\u001b[0m\u001b[1;33m:\u001b[0m\u001b[1;33m\u001b[0m\u001b[1;33m\u001b[0m\u001b[0m\n",
      "\u001b[1;32m~\\Anaconda3\\lib\\site-packages\\selenium\\webdriver\\remote\\webdriver.py\u001b[0m in \u001b[0;36mexecute\u001b[1;34m(self, driver_command, params)\u001b[0m\n\u001b[0;32m    438\u001b[0m         \u001b[0mresponse\u001b[0m \u001b[1;33m=\u001b[0m \u001b[0mself\u001b[0m\u001b[1;33m.\u001b[0m\u001b[0mcommand_executor\u001b[0m\u001b[1;33m.\u001b[0m\u001b[0mexecute\u001b[0m\u001b[1;33m(\u001b[0m\u001b[0mdriver_command\u001b[0m\u001b[1;33m,\u001b[0m \u001b[0mparams\u001b[0m\u001b[1;33m)\u001b[0m\u001b[1;33m\u001b[0m\u001b[1;33m\u001b[0m\u001b[0m\n\u001b[0;32m    439\u001b[0m         \u001b[1;32mif\u001b[0m \u001b[0mresponse\u001b[0m\u001b[1;33m:\u001b[0m\u001b[1;33m\u001b[0m\u001b[1;33m\u001b[0m\u001b[0m\n\u001b[1;32m--> 440\u001b[1;33m             \u001b[0mself\u001b[0m\u001b[1;33m.\u001b[0m\u001b[0merror_handler\u001b[0m\u001b[1;33m.\u001b[0m\u001b[0mcheck_response\u001b[0m\u001b[1;33m(\u001b[0m\u001b[0mresponse\u001b[0m\u001b[1;33m)\u001b[0m\u001b[1;33m\u001b[0m\u001b[1;33m\u001b[0m\u001b[0m\n\u001b[0m\u001b[0;32m    441\u001b[0m             \u001b[0mresponse\u001b[0m\u001b[1;33m[\u001b[0m\u001b[1;34m\"value\"\u001b[0m\u001b[1;33m]\u001b[0m \u001b[1;33m=\u001b[0m \u001b[0mself\u001b[0m\u001b[1;33m.\u001b[0m\u001b[0m_unwrap_value\u001b[0m\u001b[1;33m(\u001b[0m\u001b[0mresponse\u001b[0m\u001b[1;33m.\u001b[0m\u001b[0mget\u001b[0m\u001b[1;33m(\u001b[0m\u001b[1;34m\"value\"\u001b[0m\u001b[1;33m,\u001b[0m \u001b[1;32mNone\u001b[0m\u001b[1;33m)\u001b[0m\u001b[1;33m)\u001b[0m\u001b[1;33m\u001b[0m\u001b[1;33m\u001b[0m\u001b[0m\n\u001b[0;32m    442\u001b[0m             \u001b[1;32mreturn\u001b[0m \u001b[0mresponse\u001b[0m\u001b[1;33m\u001b[0m\u001b[1;33m\u001b[0m\u001b[0m\n",
      "\u001b[1;32m~\\Anaconda3\\lib\\site-packages\\selenium\\webdriver\\remote\\errorhandler.py\u001b[0m in \u001b[0;36mcheck_response\u001b[1;34m(self, response)\u001b[0m\n\u001b[0;32m    243\u001b[0m                 \u001b[0malert_text\u001b[0m \u001b[1;33m=\u001b[0m \u001b[0mvalue\u001b[0m\u001b[1;33m[\u001b[0m\u001b[1;34m\"alert\"\u001b[0m\u001b[1;33m]\u001b[0m\u001b[1;33m.\u001b[0m\u001b[0mget\u001b[0m\u001b[1;33m(\u001b[0m\u001b[1;34m\"text\"\u001b[0m\u001b[1;33m)\u001b[0m\u001b[1;33m\u001b[0m\u001b[1;33m\u001b[0m\u001b[0m\n\u001b[0;32m    244\u001b[0m             \u001b[1;32mraise\u001b[0m \u001b[0mexception_class\u001b[0m\u001b[1;33m(\u001b[0m\u001b[0mmessage\u001b[0m\u001b[1;33m,\u001b[0m \u001b[0mscreen\u001b[0m\u001b[1;33m,\u001b[0m \u001b[0mstacktrace\u001b[0m\u001b[1;33m,\u001b[0m \u001b[0malert_text\u001b[0m\u001b[1;33m)\u001b[0m  \u001b[1;31m# type: ignore[call-arg]  # mypy is not smart enough here\u001b[0m\u001b[1;33m\u001b[0m\u001b[1;33m\u001b[0m\u001b[0m\n\u001b[1;32m--> 245\u001b[1;33m         \u001b[1;32mraise\u001b[0m \u001b[0mexception_class\u001b[0m\u001b[1;33m(\u001b[0m\u001b[0mmessage\u001b[0m\u001b[1;33m,\u001b[0m \u001b[0mscreen\u001b[0m\u001b[1;33m,\u001b[0m \u001b[0mstacktrace\u001b[0m\u001b[1;33m)\u001b[0m\u001b[1;33m\u001b[0m\u001b[1;33m\u001b[0m\u001b[0m\n\u001b[0m",
      "\u001b[1;31mNoSuchElementException\u001b[0m: Message: no such element: Unable to locate element: {\"method\":\"xpath\",\"selector\":\"//button[@class='btn btn-primary']\"}\n  (Session info: chrome=111.0.5563.147)\nStacktrace:\nBacktrace:\n\t(No symbol) [0x00C5DCE3]\n\t(No symbol) [0x00BF39D1]\n\t(No symbol) [0x00B04DA8]\n\t(No symbol) [0x00B3019F]\n\t(No symbol) [0x00B303AB]\n\t(No symbol) [0x00B5EE62]\n\t(No symbol) [0x00B4AF14]\n\t(No symbol) [0x00B5D57C]\n\t(No symbol) [0x00B4ACC6]\n\t(No symbol) [0x00B26F68]\n\t(No symbol) [0x00B280CD]\n\tGetHandleVerifier [0x00ED3832+2506274]\n\tGetHandleVerifier [0x00F09794+2727300]\n\tGetHandleVerifier [0x00F0E36C+2746716]\n\tGetHandleVerifier [0x00D06690+617600]\n\t(No symbol) [0x00BFC712]\n\t(No symbol) [0x00C01FF8]\n\t(No symbol) [0x00C020DB]\n\t(No symbol) [0x00C0C63B]\n\tBaseThreadInitThunk [0x76D97D69+25]\n\tRtlInitializeExceptionChain [0x77DDB74B+107]\n\tRtlClearBits [0x77DDB6CF+191]\n"
     ]
    }
   ],
   "source": [
    "contacts=driver.find_element(By.XPATH,\"//button[@class='btn btn-primary']\")\n",
    "contacts.click()"
   ]
  },
  {
   "cell_type": "code",
   "execution_count": 151,
   "id": "6c3fe7df",
   "metadata": {},
   "outputs": [],
   "source": [
    "contacts_info=driver.find_elements(By.XPATH,\"//button[@class='btn btn-icon btn-icon-plain u-ml']\")"
   ]
  },
  {
   "cell_type": "code",
   "execution_count": 154,
   "id": "80274e89",
   "metadata": {},
   "outputs": [],
   "source": [
    "contacts_info[0].click()"
   ]
  },
  {
   "cell_type": "code",
   "execution_count": 155,
   "id": "d730742b",
   "metadata": {},
   "outputs": [
    {
     "name": "stdout",
     "output_type": "stream",
     "text": [
      "heilmanthomas2025@gmail.com\n"
     ]
    }
   ],
   "source": [
    "print(pyperclip.paste())"
   ]
  },
  {
   "cell_type": "code",
   "execution_count": 205,
   "id": "86284cbd",
   "metadata": {},
   "outputs": [
    {
     "ename": "NoSuchElementException",
     "evalue": "Message: no such element: Unable to locate element: {\"method\":\"xpath\",\"selector\":\"//button[@class='btn btn-primary']\"}\n  (Session info: chrome=111.0.5563.147)\nStacktrace:\nBacktrace:\n\t(No symbol) [0x00C5DCE3]\n\t(No symbol) [0x00BF39D1]\n\t(No symbol) [0x00B04DA8]\n\t(No symbol) [0x00B3019F]\n\t(No symbol) [0x00B303AB]\n\t(No symbol) [0x00B5EE62]\n\t(No symbol) [0x00B4AF14]\n\t(No symbol) [0x00B5D57C]\n\t(No symbol) [0x00B4ACC6]\n\t(No symbol) [0x00B26F68]\n\t(No symbol) [0x00B280CD]\n\tGetHandleVerifier [0x00ED3832+2506274]\n\tGetHandleVerifier [0x00F09794+2727300]\n\tGetHandleVerifier [0x00F0E36C+2746716]\n\tGetHandleVerifier [0x00D06690+617600]\n\t(No symbol) [0x00BFC712]\n\t(No symbol) [0x00C01FF8]\n\t(No symbol) [0x00C020DB]\n\t(No symbol) [0x00C0C63B]\n\tBaseThreadInitThunk [0x76D97D69+25]\n\tRtlInitializeExceptionChain [0x77DDB74B+107]\n\tRtlClearBits [0x77DDB6CF+191]\n",
     "output_type": "error",
     "traceback": [
      "\u001b[1;31m---------------------------------------------------------------------------\u001b[0m",
      "\u001b[1;31mNoSuchElementException\u001b[0m                    Traceback (most recent call last)",
      "\u001b[1;32m~\\AppData\\Local\\Temp\\ipykernel_11520\\757872831.py\u001b[0m in \u001b[0;36m<module>\u001b[1;34m\u001b[0m\n\u001b[1;32m----> 1\u001b[1;33m \u001b[0mcontacts\u001b[0m\u001b[1;33m=\u001b[0m\u001b[0mdriver\u001b[0m\u001b[1;33m.\u001b[0m\u001b[0mfind_element\u001b[0m\u001b[1;33m(\u001b[0m\u001b[0mBy\u001b[0m\u001b[1;33m.\u001b[0m\u001b[0mXPATH\u001b[0m\u001b[1;33m,\u001b[0m\u001b[1;34m\"//button[@class='btn btn-primary']\"\u001b[0m\u001b[1;33m)\u001b[0m\u001b[1;33m\u001b[0m\u001b[1;33m\u001b[0m\u001b[0m\n\u001b[0m\u001b[0;32m      2\u001b[0m \u001b[0mcontacts\u001b[0m\u001b[1;33m.\u001b[0m\u001b[0mclick\u001b[0m\u001b[1;33m(\u001b[0m\u001b[1;33m)\u001b[0m\u001b[1;33m\u001b[0m\u001b[1;33m\u001b[0m\u001b[0m\n",
      "\u001b[1;32m~\\Anaconda3\\lib\\site-packages\\selenium\\webdriver\\remote\\webdriver.py\u001b[0m in \u001b[0;36mfind_element\u001b[1;34m(self, by, value)\u001b[0m\n\u001b[0;32m    828\u001b[0m             \u001b[0mvalue\u001b[0m \u001b[1;33m=\u001b[0m \u001b[1;34mf'[name=\"{value}\"]'\u001b[0m\u001b[1;33m\u001b[0m\u001b[1;33m\u001b[0m\u001b[0m\n\u001b[0;32m    829\u001b[0m \u001b[1;33m\u001b[0m\u001b[0m\n\u001b[1;32m--> 830\u001b[1;33m         \u001b[1;32mreturn\u001b[0m \u001b[0mself\u001b[0m\u001b[1;33m.\u001b[0m\u001b[0mexecute\u001b[0m\u001b[1;33m(\u001b[0m\u001b[0mCommand\u001b[0m\u001b[1;33m.\u001b[0m\u001b[0mFIND_ELEMENT\u001b[0m\u001b[1;33m,\u001b[0m \u001b[1;33m{\u001b[0m\u001b[1;34m\"using\"\u001b[0m\u001b[1;33m:\u001b[0m \u001b[0mby\u001b[0m\u001b[1;33m,\u001b[0m \u001b[1;34m\"value\"\u001b[0m\u001b[1;33m:\u001b[0m \u001b[0mvalue\u001b[0m\u001b[1;33m}\u001b[0m\u001b[1;33m)\u001b[0m\u001b[1;33m[\u001b[0m\u001b[1;34m\"value\"\u001b[0m\u001b[1;33m]\u001b[0m\u001b[1;33m\u001b[0m\u001b[1;33m\u001b[0m\u001b[0m\n\u001b[0m\u001b[0;32m    831\u001b[0m \u001b[1;33m\u001b[0m\u001b[0m\n\u001b[0;32m    832\u001b[0m     \u001b[1;32mdef\u001b[0m \u001b[0mfind_elements\u001b[0m\u001b[1;33m(\u001b[0m\u001b[0mself\u001b[0m\u001b[1;33m,\u001b[0m \u001b[0mby\u001b[0m\u001b[1;33m=\u001b[0m\u001b[0mBy\u001b[0m\u001b[1;33m.\u001b[0m\u001b[0mID\u001b[0m\u001b[1;33m,\u001b[0m \u001b[0mvalue\u001b[0m\u001b[1;33m:\u001b[0m \u001b[0mOptional\u001b[0m\u001b[1;33m[\u001b[0m\u001b[0mstr\u001b[0m\u001b[1;33m]\u001b[0m \u001b[1;33m=\u001b[0m \u001b[1;32mNone\u001b[0m\u001b[1;33m)\u001b[0m \u001b[1;33m->\u001b[0m \u001b[0mList\u001b[0m\u001b[1;33m[\u001b[0m\u001b[0mWebElement\u001b[0m\u001b[1;33m]\u001b[0m\u001b[1;33m:\u001b[0m\u001b[1;33m\u001b[0m\u001b[1;33m\u001b[0m\u001b[0m\n",
      "\u001b[1;32m~\\Anaconda3\\lib\\site-packages\\selenium\\webdriver\\remote\\webdriver.py\u001b[0m in \u001b[0;36mexecute\u001b[1;34m(self, driver_command, params)\u001b[0m\n\u001b[0;32m    438\u001b[0m         \u001b[0mresponse\u001b[0m \u001b[1;33m=\u001b[0m \u001b[0mself\u001b[0m\u001b[1;33m.\u001b[0m\u001b[0mcommand_executor\u001b[0m\u001b[1;33m.\u001b[0m\u001b[0mexecute\u001b[0m\u001b[1;33m(\u001b[0m\u001b[0mdriver_command\u001b[0m\u001b[1;33m,\u001b[0m \u001b[0mparams\u001b[0m\u001b[1;33m)\u001b[0m\u001b[1;33m\u001b[0m\u001b[1;33m\u001b[0m\u001b[0m\n\u001b[0;32m    439\u001b[0m         \u001b[1;32mif\u001b[0m \u001b[0mresponse\u001b[0m\u001b[1;33m:\u001b[0m\u001b[1;33m\u001b[0m\u001b[1;33m\u001b[0m\u001b[0m\n\u001b[1;32m--> 440\u001b[1;33m             \u001b[0mself\u001b[0m\u001b[1;33m.\u001b[0m\u001b[0merror_handler\u001b[0m\u001b[1;33m.\u001b[0m\u001b[0mcheck_response\u001b[0m\u001b[1;33m(\u001b[0m\u001b[0mresponse\u001b[0m\u001b[1;33m)\u001b[0m\u001b[1;33m\u001b[0m\u001b[1;33m\u001b[0m\u001b[0m\n\u001b[0m\u001b[0;32m    441\u001b[0m             \u001b[0mresponse\u001b[0m\u001b[1;33m[\u001b[0m\u001b[1;34m\"value\"\u001b[0m\u001b[1;33m]\u001b[0m \u001b[1;33m=\u001b[0m \u001b[0mself\u001b[0m\u001b[1;33m.\u001b[0m\u001b[0m_unwrap_value\u001b[0m\u001b[1;33m(\u001b[0m\u001b[0mresponse\u001b[0m\u001b[1;33m.\u001b[0m\u001b[0mget\u001b[0m\u001b[1;33m(\u001b[0m\u001b[1;34m\"value\"\u001b[0m\u001b[1;33m,\u001b[0m \u001b[1;32mNone\u001b[0m\u001b[1;33m)\u001b[0m\u001b[1;33m)\u001b[0m\u001b[1;33m\u001b[0m\u001b[1;33m\u001b[0m\u001b[0m\n\u001b[0;32m    442\u001b[0m             \u001b[1;32mreturn\u001b[0m \u001b[0mresponse\u001b[0m\u001b[1;33m\u001b[0m\u001b[1;33m\u001b[0m\u001b[0m\n",
      "\u001b[1;32m~\\Anaconda3\\lib\\site-packages\\selenium\\webdriver\\remote\\errorhandler.py\u001b[0m in \u001b[0;36mcheck_response\u001b[1;34m(self, response)\u001b[0m\n\u001b[0;32m    243\u001b[0m                 \u001b[0malert_text\u001b[0m \u001b[1;33m=\u001b[0m \u001b[0mvalue\u001b[0m\u001b[1;33m[\u001b[0m\u001b[1;34m\"alert\"\u001b[0m\u001b[1;33m]\u001b[0m\u001b[1;33m.\u001b[0m\u001b[0mget\u001b[0m\u001b[1;33m(\u001b[0m\u001b[1;34m\"text\"\u001b[0m\u001b[1;33m)\u001b[0m\u001b[1;33m\u001b[0m\u001b[1;33m\u001b[0m\u001b[0m\n\u001b[0;32m    244\u001b[0m             \u001b[1;32mraise\u001b[0m \u001b[0mexception_class\u001b[0m\u001b[1;33m(\u001b[0m\u001b[0mmessage\u001b[0m\u001b[1;33m,\u001b[0m \u001b[0mscreen\u001b[0m\u001b[1;33m,\u001b[0m \u001b[0mstacktrace\u001b[0m\u001b[1;33m,\u001b[0m \u001b[0malert_text\u001b[0m\u001b[1;33m)\u001b[0m  \u001b[1;31m# type: ignore[call-arg]  # mypy is not smart enough here\u001b[0m\u001b[1;33m\u001b[0m\u001b[1;33m\u001b[0m\u001b[0m\n\u001b[1;32m--> 245\u001b[1;33m         \u001b[1;32mraise\u001b[0m \u001b[0mexception_class\u001b[0m\u001b[1;33m(\u001b[0m\u001b[0mmessage\u001b[0m\u001b[1;33m,\u001b[0m \u001b[0mscreen\u001b[0m\u001b[1;33m,\u001b[0m \u001b[0mstacktrace\u001b[0m\u001b[1;33m)\u001b[0m\u001b[1;33m\u001b[0m\u001b[1;33m\u001b[0m\u001b[0m\n\u001b[0m",
      "\u001b[1;31mNoSuchElementException\u001b[0m: Message: no such element: Unable to locate element: {\"method\":\"xpath\",\"selector\":\"//button[@class='btn btn-primary']\"}\n  (Session info: chrome=111.0.5563.147)\nStacktrace:\nBacktrace:\n\t(No symbol) [0x00C5DCE3]\n\t(No symbol) [0x00BF39D1]\n\t(No symbol) [0x00B04DA8]\n\t(No symbol) [0x00B3019F]\n\t(No symbol) [0x00B303AB]\n\t(No symbol) [0x00B5EE62]\n\t(No symbol) [0x00B4AF14]\n\t(No symbol) [0x00B5D57C]\n\t(No symbol) [0x00B4ACC6]\n\t(No symbol) [0x00B26F68]\n\t(No symbol) [0x00B280CD]\n\tGetHandleVerifier [0x00ED3832+2506274]\n\tGetHandleVerifier [0x00F09794+2727300]\n\tGetHandleVerifier [0x00F0E36C+2746716]\n\tGetHandleVerifier [0x00D06690+617600]\n\t(No symbol) [0x00BFC712]\n\t(No symbol) [0x00C01FF8]\n\t(No symbol) [0x00C020DB]\n\t(No symbol) [0x00C0C63B]\n\tBaseThreadInitThunk [0x76D97D69+25]\n\tRtlInitializeExceptionChain [0x77DDB74B+107]\n\tRtlClearBits [0x77DDB6CF+191]\n"
     ]
    }
   ],
   "source": [
    "contacts=driver.find_element(By.XPATH,\"//button[@class='btn btn-primary']\")\n",
    "contacts.click()"
   ]
  },
  {
   "cell_type": "code",
   "execution_count": 157,
   "id": "cb1694f8",
   "metadata": {},
   "outputs": [
    {
     "name": "stdout",
     "output_type": "stream",
     "text": [
      "gtaylor@piedmontymca.org\n"
     ]
    }
   ],
   "source": [
    "contacts_info=driver.find_elements(By.XPATH,\"//button[@class='btn btn-icon btn-icon-plain u-ml']\")\n",
    "contacts_info[1].click()\n",
    "print(pyperclip.paste())"
   ]
  },
  {
   "cell_type": "code",
   "execution_count": 208,
   "id": "8823ab3a",
   "metadata": {},
   "outputs": [],
   "source": [
    "def contact_details(link):\n",
    "    import time\n",
    "    contacts=driver.find_element(By.XPATH,\"//button[@class='btn btn-primary']\")\n",
    "    contacts.click()\n",
    "    time.sleep(1)\n",
    "    contacts_info=driver.find_elements(By.XPATH,\"//button[@class='btn btn-icon btn-icon-plain u-ml']\")\n",
    "    contacts_info[link].click()\n",
    "    return pyperclip.paste()\n",
    "    "
   ]
  },
  {
   "cell_type": "code",
   "execution_count": 209,
   "id": "f548b9f2",
   "metadata": {},
   "outputs": [
    {
     "name": "stdout",
     "output_type": "stream",
     "text": [
      "heilmanthomas2025@gmail.com\n"
     ]
    }
   ],
   "source": [
    "email1=contact_details(0)\n",
    "print(email1)"
   ]
  },
  {
   "cell_type": "code",
   "execution_count": 210,
   "id": "336df369",
   "metadata": {},
   "outputs": [
    {
     "name": "stdout",
     "output_type": "stream",
     "text": [
      "gtaylor@piedmontymca.org\n"
     ]
    }
   ],
   "source": [
    "email2=contact_details(1)\n",
    "print(email2)"
   ]
  },
  {
   "cell_type": "code",
   "execution_count": 211,
   "id": "09c1058f",
   "metadata": {},
   "outputs": [
    {
     "name": "stdout",
     "output_type": "stream",
     "text": [
      "chassard@piedmontymca.org\n"
     ]
    }
   ],
   "source": [
    "email3=contact_details(2)\n",
    "print(email3)"
   ]
  },
  {
   "cell_type": "code",
   "execution_count": 212,
   "id": "fe501fc9",
   "metadata": {},
   "outputs": [
    {
     "name": "stdout",
     "output_type": "stream",
     "text": [
      "+14348232585\n"
     ]
    }
   ],
   "source": [
    "phone=contact_details(3)\n",
    "print(phone)"
   ]
  },
  {
   "cell_type": "code",
   "execution_count": 213,
   "id": "c7ec9e16",
   "metadata": {},
   "outputs": [],
   "source": [
    "height=driver.find_element(By.XPATH,\"//div [@class='u-mb u-text-large' and contains(.,'Height') ]/span\")"
   ]
  },
  {
   "cell_type": "code",
   "execution_count": 214,
   "id": "25466c57",
   "metadata": {},
   "outputs": [
    {
     "data": {
      "text/plain": [
       "'6 2\"'"
      ]
     },
     "execution_count": 214,
     "metadata": {},
     "output_type": "execute_result"
    }
   ],
   "source": [
    "height.text.replace(\"\\'\",\" \")"
   ]
  },
  {
   "cell_type": "code",
   "execution_count": 215,
   "id": "b94e0ead",
   "metadata": {},
   "outputs": [],
   "source": [
    "personal_infos=driver.find_elements(By.XPATH,\"//div[@class='c-card__item row']/div\")"
   ]
  },
  {
   "cell_type": "code",
   "execution_count": 216,
   "id": "5c364e8d",
   "metadata": {},
   "outputs": [],
   "source": [
    "data=personal_infos[0].text"
   ]
  },
  {
   "cell_type": "code",
   "execution_count": 217,
   "id": "02c63937",
   "metadata": {},
   "outputs": [],
   "source": [
    "def convert_dictionary(data):\n",
    "    key_value_pairs = data.split(\"\\n\")\n",
    "\n",
    "    # Step 2: Split each key-value pair by colon \":\"\n",
    "    key_value_pairs = [pair.split(\": \") for pair in key_value_pairs]\n",
    "\n",
    "    # Step 3: Create an empty dictionary and add the key-value pairs\n",
    "    dictionary = {}\n",
    "    for pair in key_value_pairs:\n",
    "        dictionary[pair[0]] = pair[1]\n",
    "    return dictionary"
   ]
  },
  {
   "cell_type": "code",
   "execution_count": 218,
   "id": "bd4b4833",
   "metadata": {},
   "outputs": [],
   "source": [
    "personal_data=convert_dictionary(data)"
   ]
  },
  {
   "cell_type": "code",
   "execution_count": 219,
   "id": "20c307af",
   "metadata": {},
   "outputs": [
    {
     "data": {
      "text/plain": [
       "{'Hometown': 'Crozet',\n",
       " 'Zipcode': '22932',\n",
       " 'Country': 'USA',\n",
       " 'City': 'Yancey mills, VA',\n",
       " 'Population': '5229',\n",
       " 'Median home': '$379,343',\n",
       " 'Median income': '$75,297'}"
      ]
     },
     "execution_count": 219,
     "metadata": {},
     "output_type": "execute_result"
    }
   ],
   "source": [
    "personal_data"
   ]
  },
  {
   "cell_type": "code",
   "execution_count": null,
   "id": "84518086",
   "metadata": {},
   "outputs": [],
   "source": []
  },
  {
   "cell_type": "code",
   "execution_count": null,
   "id": "92ef4ce8",
   "metadata": {},
   "outputs": [],
   "source": []
  },
  {
   "cell_type": "code",
   "execution_count": null,
   "id": "65adb947",
   "metadata": {},
   "outputs": [],
   "source": []
  },
  {
   "cell_type": "code",
   "execution_count": 222,
   "id": "7ce9af3a",
   "metadata": {},
   "outputs": [],
   "source": [
    "driver.back()"
   ]
  },
  {
   "cell_type": "code",
   "execution_count": null,
   "id": "7efc59ac",
   "metadata": {},
   "outputs": [],
   "source": []
  },
  {
   "cell_type": "code",
   "execution_count": null,
   "id": "054cac0d",
   "metadata": {},
   "outputs": [],
   "source": []
  },
  {
   "cell_type": "code",
   "execution_count": null,
   "id": "ec00a963",
   "metadata": {},
   "outputs": [],
   "source": []
  },
  {
   "cell_type": "code",
   "execution_count": null,
   "id": "6df37586",
   "metadata": {},
   "outputs": [],
   "source": []
  },
  {
   "cell_type": "code",
   "execution_count": null,
   "id": "45969b69",
   "metadata": {},
   "outputs": [],
   "source": []
  },
  {
   "cell_type": "code",
   "execution_count": null,
   "id": "30c1d8da",
   "metadata": {},
   "outputs": [],
   "source": []
  },
  {
   "cell_type": "code",
   "execution_count": null,
   "id": "b2ea29d6",
   "metadata": {},
   "outputs": [],
   "source": []
  }
 ],
 "metadata": {
  "kernelspec": {
   "display_name": "Python 3 (ipykernel)",
   "language": "python",
   "name": "python3"
  },
  "language_info": {
   "codemirror_mode": {
    "name": "ipython",
    "version": 3
   },
   "file_extension": ".py",
   "mimetype": "text/x-python",
   "name": "python",
   "nbconvert_exporter": "python",
   "pygments_lexer": "ipython3",
   "version": "3.9.13"
  }
 },
 "nbformat": 4,
 "nbformat_minor": 5
}
