{
 "cells": [
  {
   "cell_type": "code",
   "execution_count": 1,
   "id": "f2f131e5",
   "metadata": {},
   "outputs": [],
   "source": [
    "import requests\n",
    "from bs4 import BeautifulSoup"
   ]
  },
  {
   "cell_type": "code",
   "execution_count": 2,
   "id": "649c084b",
   "metadata": {},
   "outputs": [],
   "source": [
    "url='https://www.swimcloud.com/recruiting/rankings/2025/F/?page=1'"
   ]
  },
  {
   "cell_type": "code",
   "execution_count": 3,
   "id": "4dea2afb",
   "metadata": {},
   "outputs": [],
   "source": [
    "response=requests.get(url)"
   ]
  },
  {
   "cell_type": "code",
   "execution_count": 4,
   "id": "a76c1692",
   "metadata": {},
   "outputs": [
    {
     "data": {
      "text/plain": [
       "200"
      ]
     },
     "execution_count": 4,
     "metadata": {},
     "output_type": "execute_result"
    }
   ],
   "source": [
    "response.status_code"
   ]
  },
  {
   "cell_type": "code",
   "execution_count": 5,
   "id": "5b0f95aa",
   "metadata": {},
   "outputs": [
    {
     "data": {
      "text/plain": [
       "b'\\n\\n<!DOCTYPE html>\\n<html class=\"js-html\" lang=\"en\">\\n  <head>\\n    \\n  <script async src=\"https://www.googletagmanager.com/gtag/js?id=G-V8NLDKPXH3\"></script>\\n  <script>\\n    window.dataLayer = window.dataLayer || [];\\n    function gtag(){dataLayer.push(arguments);}\\n    gtag(\\'js\\', new Date());\\n\\n    gtag(\\'config\\', \\'G-V8NLDKPXH3\\', {\\n      \\'user_id\\': \\'\\'\\n    });\\n\\n    \\n  </script>\\n\\n\\n\\n\\n    <meta charset=\"utf-8\">\\n    <meta http-equiv=\"x-ua-compatible\" content=\"ie=edge\">\\n    <meta name=\"viewport\" content=\"width=device-width, initial-scale=1, shrink-to-fit=no\">\\n    <meta name=\"robots\" content=\"Index, Follow\">\\n    <title>Recruit Rankings</title>\\n    \\n      <meta name=\"description\" content=\"Your home for results, rankings, data and all things swimming.\"/>\\n    \\n    <link rel=\"preconnect\" href=\"https://fonts.googleapis.com\">\\n    <link rel=\"preconnect\" href=\"https://fonts.gstatic.com\" crossorigin>\\n    <link href=\"https://fonts.googleapis.com/css2?family=Roboto:ital,wght@0,400;0,500;0,700;1,400;1,500&display=swap\" rel=\"stylesheet\">\\n    <link rel=\"stylesheet\" href=\"/media/css/main.1679990903.css\" media=\"all\">\\n    \\n\\n<link href=\"/media/webpack/globalSearch/index.1673429435.css\" rel=\"stylesheet\">\\n<script defer src=\"/media/webpack/globalSearch/index.1676450527.js\"></script>\\n\\n    \\n      <link rel=\"shortcut icon\" href=\"/media/img/swimcloud/favicons/favicon.ico\">\\n      <link rel=\"icon\" type=\"image/png\" sizes=\"32x32\" href=\"/media/img/swimcloud/favicons/favicon-32x32.png\">\\n      <link rel=\"icon\" type=\"image/png\" sizes=\"16x16\" href=\"/media/img/swimcloud/favicons/favicon-16x16.png\">\\n      <link rel=\"apple-touch-icon\" sizes=\"180x180\" href=\"/media/img/swimcloud/favicons/apple-touch-icon.png\">\\n    \\n\\n    <script type=\"text/javascript\">var _sf_startpt=(new Date()).getTime();</script>\\n    \\n\\n    \\n  </head>\\n\\n  <body class=\"yui3-skin-sam \">\\n    <!-- Google Tag Manager (noscript) -->\\n    <noscript><iframe src=\"https://www.googletagmanager.com/ns.html?id=GTM-WDZBFJZ\"\\n    height=\"0\" width=\"0\" style=\"display:none;visibility:hidden\"></iframe></noscript>\\n    <!-- End Google Tag Manager (noscript) -->\\n    \\n\\n<div class=\"c-header\">\\n  <div class=\"c-header__start\">\\n    <button\\n  class=\"c-header__toggle-btn c-header__toggle-btn--desktop js-sc-drawer-desktop-toggle\"\\n  type=\"button\"\\n  aria-label=\"Main menu\">\\n  <svg height=\"24\" viewBox=\"0 0 24 24\" width=\"24\" xmlns=\"http://www.w3.org/2000/svg\">\\n    <path d=\"M0 0h24v24H0z\" fill=\"none\"/>\\n    <path d=\"M3 18h18v-2H3v2zm0-5h18v-2H3v2zm0-7v2h18V6H3z\"/>\\n  </svg>\\n</button>\\n\\n    <button\\n  class=\"c-header__toggle-btn c-header__toggle-btn--mobile js-sc-drawer-mobile-toggle\"\\n  type=\"button\"\\n  aria-label=\"Main menu\">\\n  <svg height=\"24\" viewBox=\"0 0 24 24\" width=\"24\" xmlns=\"http://www.w3.org/2000/svg\">\\n    <path d=\"M0 0h24v24H0z\" fill=\"none\"/>\\n    <path d=\"M3 18h18v-2H3v2zm0-5h18v-2H3v2zm0-7v2h18V6H3z\"/>\\n  </svg>\\n</button>\\n\\n\\n    <a class=\"c-header__home\" href=\"/\">\\n      <img\\n        class=\"c-header__logo hidden-xs\"\\n        src=\"/media/img/swimcloud/logos/swimcloud.svg\"\\n        alt=\"Swimcloud logo\">\\n\\n      <img\\n        class=\"c-header__logo visible-xs\"\\n        src=\"/media/img/swimcloud/logos/swimcloud-simple.svg\"\\n        height=\"20\"\\n        alt=\"Swimcloud logo compact version\">\\n    </a>\\n  </div>\\n\\n\\n  <div id=\"global-search\" class=\"c-header__search\"></div>\\n\\n\\n  <div class=\"c-header__end\">\\n    \\n      <nav class=\"c-nav c-nav--inline c-nav--global\">\\n        <a class=\"c-nav__item u-text-upcase hidden-xs\" href=\"/login\">Login</a>\\n        <a class=\"c-nav__item u-text-upcase hidden-xs\" href=\"/register\">Register</a>\\n        <div class=\"visible-xs dropdown\">\\n          <button\\n            class=\"c-nav__item dropdown-toggle\"\\n            data-toggle=\"dropdown\"\\n            type=\"button\"\\n            aria-label=\"Login or Register dropdown\">\\n            \\n  \\n    <i class=\"fas fa-user-circle fa-2x\" aria-hidden=\"true\"></i>\\n  \\n\\n\\n          </button>\\n          <ul class=\"dropdown-menu dropdown-menu-right\">\\n            <li><a href=\"/login\">Login</a></li>\\n            <li><a href=\"/register\">Register</a></li>\\n          </ul>\\n        </div>\\n      </nav>\\n    \\n  </div>\\n</div>\\n\\n\\n    <div class=\"c-layout\">\\n      \\n        \\n\\n\\n<div class=\"c-sc-drawer  c-sc-drawer--desktop js-sc-drawer-desktop\">\\n  \\n\\n  <nav class=\"c-nav c-nav--compact\">\\n    <a\\n      class=\"c-nav__item \"\\n      href=\"/\">\\n      <i class=\"c-nav__icon far fa-home-alt\" aria-hidden=\"true\"></i>\\n        Home\\n    </a>\\n\\n    <a\\n      class=\"c-nav__item \"\\n      href=\"/results/\">\\n      <i class=\"c-nav__icon far fa-list-alt\" aria-hidden=\"true\"></i>\\n      Meets\\n    </a>\\n\\n    \\n    \\n      \\n    \\n    \\n\\n    \\n\\n    <a\\n      class=\"c-nav__item \"\\n      href=\"/times/\">\\n      <i class=\"c-nav__icon far fa-stopwatch\" aria-hidden=\"true\"></i>\\n      Top Times\\n    </a>\\n\\n    <a\\n      class=\"c-nav__item \"\\n      href=\"/team/rankings/\">\\n      <i class=\"c-nav__icon far fa-tshirt\" aria-hidden=\"true\"></i>\\n      Team Rankings\\n    </a>\\n\\n    <a\\n      class=\"c-nav__item c-nav__item--active\"\\n      href=\"/recruiting/\">\\n      <i class=\"c-nav__icon far fa-graduation-cap\" aria-hidden=\"true\"></i>\\n      Recruiting\\n    </a>\\n\\n    <a\\n      class=\"c-nav__item \"\\n      href=\"/videos/\">\\n      <i class=\"c-nav__icon far fa-video\" aria-hidden=\"true\"></i>\\n      Videos\\n    </a>\\n\\n    \\n    \\n\\n    <a\\n      class=\"c-nav__item \"\\n      href=\"/meetsimulator/\">\\n      <i class=\"c-nav__icon far fa-wand-magic-sparkles\" aria-hidden=\"true\"></i>\\n      Meet Simulator\\n    </a>\\n\\n    \\n\\n\\n\\n\\n    \\n\\n\\n\\n\\n    <div class=\"c-nav__group\">\\n      <a class=\"c-nav__item\" href=\"/help\">\\n        <i class=\"c-nav__icon far fa-question-circle\" aria-hidden=\"true\"></i>\\n        Help\\n      </a>\\n    </div>\\n  </nav>\\n\\n  <footer class=\"c-footer\">\\n  <nav class=\"c-footer__nav\">\\n    <a class=\"c-footer__link\" href=\"/privacy\">Privacy</a>\\n    <a class=\"c-footer__link\" href=\"/terms\">Terms</a>\\n  </nav>\\n    \\n</footer>\\n\\n</div>\\n\\n\\n\\n        \\n\\n\\n<div class=\"c-sc-drawer  c-sc-drawer--mobile js-sc-drawer-mobile\">\\n  \\n  <header class=\"c-sc-drawer__header-mobile\">\\n    <a class=\"u-block\" href=\"/\">\\n      <img src=\"/media/img/swimcloud/logos/swimcloud.svg\" alt=\"Swimcloud\">\\n    </a>\\n    <button\\n      class=\"btn btn-icon btn-icon-plain js-sc-drawer-mobile-close\"\\n      type=\"button\">\\n      <i class=\"far fa-chevron-left\"></i>\\n      <span class=\"u-is-hidden-visually\">Close</span>\\n    </button>\\n  </header>\\n\\n\\n  <nav class=\"c-nav c-nav--compact\">\\n    <a\\n      class=\"c-nav__item \"\\n      href=\"/\">\\n      <i class=\"c-nav__icon far fa-home-alt\" aria-hidden=\"true\"></i>\\n        Home\\n    </a>\\n\\n    <a\\n      class=\"c-nav__item \"\\n      href=\"/results/\">\\n      <i class=\"c-nav__icon far fa-list-alt\" aria-hidden=\"true\"></i>\\n      Meets\\n    </a>\\n\\n    \\n    \\n      \\n    \\n    \\n\\n    \\n\\n    <a\\n      class=\"c-nav__item \"\\n      href=\"/times/\">\\n      <i class=\"c-nav__icon far fa-stopwatch\" aria-hidden=\"true\"></i>\\n      Top Times\\n    </a>\\n\\n    <a\\n      class=\"c-nav__item \"\\n      href=\"/team/rankings/\">\\n      <i class=\"c-nav__icon far fa-tshirt\" aria-hidden=\"true\"></i>\\n      Team Rankings\\n    </a>\\n\\n    <a\\n      class=\"c-nav__item c-nav__item--active\"\\n      href=\"/recruiting/\">\\n      <i class=\"c-nav__icon far fa-graduation-cap\" aria-hidden=\"true\"></i>\\n      Recruiting\\n    </a>\\n\\n    <a\\n      class=\"c-nav__item \"\\n      href=\"/videos/\">\\n      <i class=\"c-nav__icon far fa-video\" aria-hidden=\"true\"></i>\\n      Videos\\n    </a>\\n\\n    \\n    \\n\\n    <a\\n      class=\"c-nav__item \"\\n      href=\"/meetsimulator/\">\\n      <i class=\"c-nav__icon far fa-wand-magic-sparkles\" aria-hidden=\"true\"></i>\\n      Meet Simulator\\n    </a>\\n\\n    \\n\\n\\n\\n\\n    \\n\\n\\n\\n\\n    <div class=\"c-nav__group\">\\n      <a class=\"c-nav__item\" href=\"/help\">\\n        <i class=\"c-nav__icon far fa-question-circle\" aria-hidden=\"true\"></i>\\n        Help\\n      </a>\\n    </div>\\n  </nav>\\n\\n  <footer class=\"c-footer\">\\n  <nav class=\"c-footer__nav\">\\n    <a class=\"c-footer__link\" href=\"/privacy\">Privacy</a>\\n    <a class=\"c-footer__link\" href=\"/terms\">Terms</a>\\n  </nav>\\n    \\n</footer>\\n\\n</div>\\n\\n\\n  <div class=\"c-sc-drawer__backdrop-mobile js-sc-drawer-mobile-backdrop\"></div>\\n\\n\\n      \\n\\n      <div class=\"c-layout__main js-alerts-container\">\\n        \\n  \\n\\n\\n\\n        \\n\\n\\n\\n\\n\\n\\n        \\n        \\n  \\n  \\n\\n  <div class=\"container\">\\n    \\n    <div class=\"c-toolbar\">\\n      \\n        <div class=\"c-toolbar__header u-flex u-flex-justify-between\">\\n          <div class=\"u-flex u-flex-align-items-center\">\\n            <div class=\"c-toolbar__media c-toolbar__media-badge\">\\n              <i class=\"far fa-graduation-cap\"></i>\\n            </div>\\n            <h1 class=\"c-toolbar__title\">Recruiting</h1>\\n          </div>\\n          <div class=\"u-flex u-flex-align-items-center\" id=\"class-type\">\\n            <select class=\"form-control  selectredirect c-recruiting-filter\" data-type=\"gradhs\" id=\"gradhs-filter\">\\n              \\n                <option value=\"2025\" selected>2025</option>\\n              \\n                <option value=\"2024\" >2024</option>\\n              \\n                <option value=\"2023\" >2023</option>\\n              \\n                <option value=\"2022\" >2022</option>\\n              \\n                <option value=\"2021\" >2021</option>\\n              \\n                <option value=\"2020\" >2020</option>\\n              \\n                <option value=\"2019\" >2019</option>\\n              \\n                <option value=\"2018\" >2018</option>\\n              \\n            </select>\\n            <div class=\"c-recruiting-filter-separator\"></div>\\n            <select class=\"form-control  selectredirect c-recruiting-filter\" data-type=\"gender\" id=\"gender-filter\">\\n              \\n                <option value=\"M\" >Men</option>\\n              \\n                <option value=\"F\" selected>Women</option>\\n              \\n            </select>\\n          </div>\\n        </div>\\n      \\n\\n      \\n      <div class=\"c-toolbar__nav\">\\n        <nav class=\"c-nav c-nav--inline c-nav--responsive\">\\n          \\n          \\n          \\n          \\n\\n\\n          \\n            \\n            \\n            \\n          \\n\\n          <a\\n            class=\"c-nav__item c-nav__item--active\"\\n            href=\"/recruiting/rankings/\">\\n            Rankings\\n          </a>\\n\\n          \\n            \\n          \\n\\n          <a\\n            class=\"c-nav__item \"\\n            href=\"/recruiting/commitments/\">\\n            Commitments\\n          </a>\\n          <a\\n            class=\"c-nav__item \"\\n            href=\"/recruiting/campus-visits/\">\\n            Campus visits\\n          </a>\\n        </nav>\\n      </div>\\n      \\n    </div>\\n  </div>\\n\\n\\n  <div class=\"container\">\\n    <div class=\"row row--large\">\\n      <div class=\"col-md-9\">\\n        <div class=\"c-card u-overflow-hidden\">\\n          \\n\\n<div class=\"c-table-clean--responsive\">\\n  <table class=\"c-table-clean c-table-clean--middle table table-hover\">\\n    \\n\\n    <thead>\\n      <tr>\\n        <th colspan=\"2\">Name</th>\\n        <th class=\"u-text-center hidden-xs\">Commitment</th>\\n        <th class=\"hidden-xs\">Hometown</th>\\n        <th class=\"c-table-clean__col-fit u-text-end\">Power Index</th>\\n      </tr>\\n    </thead>\\n\\n    <tbody>\\n      \\n        <tr >\\n          <td class=\"c-table-clean__col-fit u-pr0 u-text-center\">\\n            1\\n          </td>\\n          <td>\\n            <a class=\"u-text-semi\" href=\"/swimmer/1866987\">Alex Shackell</a>\\n          </td>\\n          <td class=\"u-text-center hidden-xs\">\\n            \\n              \\n                &ndash;\\n              \\n            \\n          </td>\\n          <td class=\"hidden-xs u-color-mute\">Carmel, IN</td>\\n          <td class=\"u-text-end\">1.00</td>\\n        </tr>\\n      \\n        <tr >\\n          <td class=\"c-table-clean__col-fit u-pr0 u-text-center\">\\n            2\\n          </td>\\n          <td>\\n            <a class=\"u-text-semi\" href=\"/swimmer/505050\">Teagan O&#x27;Dell</a>\\n          </td>\\n          <td class=\"u-text-center hidden-xs\">\\n            \\n              \\n                &ndash;\\n              \\n            \\n          </td>\\n          <td class=\"hidden-xs u-color-mute\">Chino Hills, CA</td>\\n          <td class=\"u-text-end\">1.01</td>\\n        </tr>\\n      \\n        <tr >\\n          <td class=\"c-table-clean__col-fit u-pr0 u-text-center\">\\n            3\\n          </td>\\n          <td>\\n            <a class=\"u-text-semi\" href=\"/swimmer/1639488\">Claire Weinstein</a>\\n          </td>\\n          <td class=\"u-text-center hidden-xs\">\\n            \\n              \\n                &ndash;\\n              \\n            \\n          </td>\\n          <td class=\"hidden-xs u-color-mute\">Las Vegas, NV</td>\\n          <td class=\"u-text-end\">1.05</td>\\n        </tr>\\n      \\n        <tr >\\n          <td class=\"c-table-clean__col-fit u-pr0 u-text-center\">\\n            4\\n          </td>\\n          <td>\\n            <a class=\"u-text-semi\" href=\"/swimmer/450050\">Madi Mintenko</a>\\n          </td>\\n          <td class=\"u-text-center hidden-xs\">\\n            \\n              \\n                &ndash;\\n              \\n            \\n          </td>\\n          <td class=\"hidden-xs u-color-mute\">Colorado Springs, CO</td>\\n          <td class=\"u-text-end\">1.29</td>\\n        </tr>\\n      \\n        <tr >\\n          <td class=\"c-table-clean__col-fit u-pr0 u-text-center\">\\n            5\\n          </td>\\n          <td>\\n            <a class=\"u-text-semi\" href=\"/swimmer/1470504\">Lynsey Bowen</a>\\n          </td>\\n          <td class=\"u-text-center hidden-xs\">\\n            \\n              \\n                &ndash;\\n              \\n            \\n          </td>\\n          <td class=\"hidden-xs u-color-mute\">Carmel, IN</td>\\n          <td class=\"u-text-end\">1.38</td>\\n        </tr>\\n      \\n        <tr >\\n          <td class=\"c-table-clean__col-fit u-pr0 u-text-center\">\\n            6\\n          </td>\\n          <td>\\n            <a class=\"u-text-semi\" href=\"/swimmer/1624791\">Chloe Kim</a>\\n          </td>\\n          <td class=\"u-text-center hidden-xs\">\\n            \\n              \\n                &ndash;\\n              \\n            \\n          </td>\\n          <td class=\"hidden-xs u-color-mute\">Glen Rock, NJ</td>\\n          <td class=\"u-text-end\">1.39</td>\\n        </tr>\\n      \\n        <tr >\\n          <td class=\"c-table-clean__col-fit u-pr0 u-text-center\">\\n            7\\n          </td>\\n          <td>\\n            <a class=\"u-text-semi\" href=\"/swimmer/1984429\">Lilla Bognar</a>\\n          </td>\\n          <td class=\"u-text-center hidden-xs\">\\n            \\n              \\n                &ndash;\\n              \\n            \\n          </td>\\n          <td class=\"hidden-xs u-color-mute\">Travelers Rest, SC</td>\\n          <td class=\"u-text-end\">1.76</td>\\n        </tr>\\n      \\n        <tr >\\n          <td class=\"c-table-clean__col-fit u-pr0 u-text-center\">\\n            8\\n          </td>\\n          <td>\\n            <a class=\"u-text-semi\" href=\"/swimmer/2305972\">Laila Oravsky</a>\\n          </td>\\n          <td class=\"u-text-center hidden-xs\">\\n            \\n              \\n                &ndash;\\n              \\n            \\n          </td>\\n          <td class=\"hidden-xs u-color-mute\">Barrie, ON</td>\\n          <td class=\"u-text-end\">1.84</td>\\n        </tr>\\n      \\n        <tr >\\n          <td class=\"c-table-clean__col-fit u-pr0 u-text-center\">\\n            9\\n          </td>\\n          <td>\\n            <a class=\"u-text-semi\" href=\"/swimmer/1823580\">Lily King</a>\\n          </td>\\n          <td class=\"u-text-center hidden-xs\">\\n            \\n              \\n                &ndash;\\n              \\n            \\n          </td>\\n          <td class=\"hidden-xs u-color-mute\">Latrobe, PA</td>\\n          <td class=\"u-text-end\">2.15</td>\\n        </tr>\\n      \\n        <tr >\\n          <td class=\"c-table-clean__col-fit u-pr0 u-text-center\">\\n            10\\n          </td>\\n          <td>\\n            <a class=\"u-text-semi\" href=\"/swimmer/1588446\">Addie Robillard</a>\\n          </td>\\n          <td class=\"u-text-center hidden-xs\">\\n            \\n              \\n                &ndash;\\n              \\n            \\n          </td>\\n          <td class=\"hidden-xs u-color-mute\">Mason, OH</td>\\n          <td class=\"u-text-end\">2.32</td>\\n        </tr>\\n      \\n        <tr >\\n          <td class=\"c-table-clean__col-fit u-pr0 u-text-center\">\\n            11\\n          </td>\\n          <td>\\n            <a class=\"u-text-semi\" href=\"/swimmer/1734157\">Nicole Zettel</a>\\n          </td>\\n          <td class=\"u-text-center hidden-xs\">\\n            \\n              \\n                &ndash;\\n              \\n            \\n          </td>\\n          <td class=\"hidden-xs u-color-mute\">Holly Springs, NC</td>\\n          <td class=\"u-text-end\">2.95</td>\\n        </tr>\\n      \\n        <tr >\\n          <td class=\"c-table-clean__col-fit u-pr0 u-text-center\">\\n            12\\n          </td>\\n          <td>\\n            <a class=\"u-text-semi\" href=\"/swimmer/1799659\">Raya Mellott</a>\\n          </td>\\n          <td class=\"u-text-center hidden-xs\">\\n            \\n              \\n                &ndash;\\n              \\n            \\n          </td>\\n          <td class=\"hidden-xs u-color-mute\">Danville, CA</td>\\n          <td class=\"u-text-end\">2.99</td>\\n        </tr>\\n      \\n        <tr >\\n          <td class=\"c-table-clean__col-fit u-pr0 u-text-center\">\\n            13\\n          </td>\\n          <td>\\n            <a class=\"u-text-semi\" href=\"/swimmer/1828196\">Elle Scott</a>\\n          </td>\\n          <td class=\"u-text-center hidden-xs\">\\n            \\n              \\n                &ndash;\\n              \\n            \\n          </td>\\n          <td class=\"hidden-xs u-color-mute\">Richmond, VA</td>\\n          <td class=\"u-text-end\">3.27</td>\\n        </tr>\\n      \\n        <tr >\\n          <td class=\"c-table-clean__col-fit u-pr0 u-text-center\">\\n            14\\n          </td>\\n          <td>\\n            <a class=\"u-text-semi\" href=\"/swimmer/2160778\">Bella Brito</a>\\n          </td>\\n          <td class=\"u-text-center hidden-xs\">\\n            \\n              \\n                &ndash;\\n              \\n            \\n          </td>\\n          <td class=\"hidden-xs u-color-mute\">Santa Monica, CA</td>\\n          <td class=\"u-text-end\">3.42</td>\\n        </tr>\\n      \\n        <tr >\\n          <td class=\"c-table-clean__col-fit u-pr0 u-text-center\">\\n            15\\n          </td>\\n          <td>\\n            <a class=\"u-text-semi\" href=\"/swimmer/1531962\">Annie Jia</a>\\n          </td>\\n          <td class=\"u-text-center hidden-xs\">\\n            \\n              \\n                &ndash;\\n              \\n            \\n          </td>\\n          <td class=\"hidden-xs u-color-mute\">Ambler, PA</td>\\n          <td class=\"u-text-end\">3.51</td>\\n        </tr>\\n      \\n        <tr >\\n          <td class=\"c-table-clean__col-fit u-pr0 u-text-center\">\\n            16\\n          </td>\\n          <td>\\n            <a class=\"u-text-semi\" href=\"/swimmer/1210019\">Haley McDonald</a>\\n          </td>\\n          <td class=\"u-text-center hidden-xs\">\\n            \\n              \\n                &ndash;\\n              \\n            \\n          </td>\\n          <td class=\"hidden-xs u-color-mute\">Louisville, KY</td>\\n          <td class=\"u-text-end\">3.55</td>\\n        </tr>\\n      \\n        <tr >\\n          <td class=\"c-table-clean__col-fit u-pr0 u-text-center\">\\n            17\\n          </td>\\n          <td>\\n            <a class=\"u-text-semi\" href=\"/swimmer/1385130\">Martina Bukvic</a>\\n          </td>\\n          <td class=\"u-text-center hidden-xs\">\\n            \\n              \\n                &ndash;\\n              \\n            \\n          </td>\\n          <td class=\"hidden-xs u-color-mute\">Belgrade, SRB</td>\\n          <td class=\"u-text-end\">3.61</td>\\n        </tr>\\n      \\n        <tr >\\n          <td class=\"c-table-clean__col-fit u-pr0 u-text-center\">\\n            18\\n          </td>\\n          <td>\\n            <a class=\"u-text-semi\" href=\"/swimmer/1504320\">Annam Olasewere</a>\\n          </td>\\n          <td class=\"u-text-center hidden-xs\">\\n            \\n              \\n                &ndash;\\n              \\n            \\n          </td>\\n          <td class=\"hidden-xs u-color-mute\">Westport, CT</td>\\n          <td class=\"u-text-end\">3.64</td>\\n        </tr>\\n      \\n        <tr >\\n          <td class=\"c-table-clean__col-fit u-pr0 u-text-center\">\\n            19\\n          </td>\\n          <td>\\n            <a class=\"u-text-semi\" href=\"/swimmer/1166482\">Grace Rabb</a>\\n          </td>\\n          <td class=\"u-text-center hidden-xs\">\\n            \\n              \\n                &ndash;\\n              \\n            \\n          </td>\\n          <td class=\"hidden-xs u-color-mute\">Chaska, MN</td>\\n          <td class=\"u-text-end\">4.92</td>\\n        </tr>\\n      \\n        <tr >\\n          <td class=\"c-table-clean__col-fit u-pr0 u-text-center\">\\n            20\\n          </td>\\n          <td>\\n            <a class=\"u-text-semi\" href=\"/swimmer/1796628\">Alana Berlin</a>\\n          </td>\\n          <td class=\"u-text-center hidden-xs\">\\n            \\n              \\n                &ndash;\\n              \\n            \\n          </td>\\n          <td class=\"hidden-xs u-color-mute\">Franklin, WI</td>\\n          <td class=\"u-text-end\">4.98</td>\\n        </tr>\\n      \\n        <tr >\\n          <td class=\"c-table-clean__col-fit u-pr0 u-text-center\">\\n            21\\n          </td>\\n          <td>\\n            <a class=\"u-text-semi\" href=\"/swimmer/1798994\">Kennedi Dobson</a>\\n          </td>\\n          <td class=\"u-text-center hidden-xs\">\\n            \\n              \\n                &ndash;\\n              \\n            \\n          </td>\\n          <td class=\"hidden-xs u-color-mute\">Levittown, PA</td>\\n          <td class=\"u-text-end\">5.02</td>\\n        </tr>\\n      \\n        <tr >\\n          <td class=\"c-table-clean__col-fit u-pr0 u-text-center\">\\n            22\\n          </td>\\n          <td>\\n            <a class=\"u-text-semi\" href=\"/swimmer/1434899\">Avery Collins</a>\\n          </td>\\n          <td class=\"u-text-center hidden-xs\">\\n            \\n              \\n                &ndash;\\n              \\n            \\n          </td>\\n          <td class=\"hidden-xs u-color-mute\">Keller, TX</td>\\n          <td class=\"u-text-end\">5.12</td>\\n        </tr>\\n      \\n        <tr >\\n          <td class=\"c-table-clean__col-fit u-pr0 u-text-center\">\\n            23\\n          </td>\\n          <td>\\n            <a class=\"u-text-semi\" href=\"/swimmer/1827610\">Emily Hamill</a>\\n          </td>\\n          <td class=\"u-text-center hidden-xs\">\\n            \\n              \\n                &ndash;\\n              \\n            \\n          </td>\\n          <td class=\"hidden-xs u-color-mute\">Collegeville, PA</td>\\n          <td class=\"u-text-end\">5.13</td>\\n        </tr>\\n      \\n        <tr >\\n          <td class=\"c-table-clean__col-fit u-pr0 u-text-center\">\\n            24\\n          </td>\\n          <td>\\n            <a class=\"u-text-semi\" href=\"/swimmer/2065201\">Mere Whelehan</a>\\n          </td>\\n          <td class=\"u-text-center hidden-xs\">\\n            \\n              \\n                &ndash;\\n              \\n            \\n          </td>\\n          <td class=\"hidden-xs u-color-mute\">Cary, NC</td>\\n          <td class=\"u-text-end\">5.54</td>\\n        </tr>\\n      \\n        <tr >\\n          <td class=\"c-table-clean__col-fit u-pr0 u-text-center\">\\n            25\\n          </td>\\n          <td>\\n            <a class=\"u-text-semi\" href=\"/swimmer/1870133\">Alexa McDevitt</a>\\n          </td>\\n          <td class=\"u-text-center hidden-xs\">\\n            \\n              \\n                &ndash;\\n              \\n            \\n          </td>\\n          <td class=\"hidden-xs u-color-mute\">Mercer Island, WA</td>\\n          <td class=\"u-text-end\">5.86</td>\\n        </tr>\\n      \\n        <tr >\\n          <td class=\"c-table-clean__col-fit u-pr0 u-text-center\">\\n            26\\n          </td>\\n          <td>\\n            <a class=\"u-text-semi\" href=\"/swimmer/1808794\">Maya Bezanson</a>\\n          </td>\\n          <td class=\"u-text-center hidden-xs\">\\n            \\n              \\n                &ndash;\\n              \\n            \\n          </td>\\n          <td class=\"hidden-xs u-color-mute\">Toronto, ON</td>\\n          <td class=\"u-text-end\">5.87</td>\\n        </tr>\\n      \\n        <tr >\\n          <td class=\"c-table-clean__col-fit u-pr0 u-text-center\">\\n            27\\n          </td>\\n          <td>\\n            <a class=\"u-text-semi\" href=\"/swimmer/1587347\">Sophia Umstead</a>\\n          </td>\\n          <td class=\"u-text-center hidden-xs\">\\n            \\n              \\n                &ndash;\\n              \\n            \\n          </td>\\n          <td class=\"hidden-xs u-color-mute\">Jenison, MI</td>\\n          <td class=\"u-text-end\">5.90</td>\\n        </tr>\\n      \\n        <tr >\\n          <td class=\"c-table-clean__col-fit u-pr0 u-text-center\">\\n            28\\n          </td>\\n          <td>\\n            <a class=\"u-text-semi\" href=\"/swimmer/2010789\">Jada Duncan</a>\\n          </td>\\n          <td class=\"u-text-center hidden-xs\">\\n            \\n              \\n                &ndash;\\n              \\n            \\n          </td>\\n          <td class=\"hidden-xs u-color-mute\">Rocklin, CA</td>\\n          <td class=\"u-text-end\">6.24</td>\\n        </tr>\\n      \\n        <tr >\\n          <td class=\"c-table-clean__col-fit u-pr0 u-text-center\">\\n            29\\n          </td>\\n          <td>\\n            <a class=\"u-text-semi\" href=\"/swimmer/2253713\">Sylvia Statkevicius</a>\\n          </td>\\n          <td class=\"u-text-center hidden-xs\">\\n            \\n              \\n                &ndash;\\n              \\n            \\n          </td>\\n          <td class=\"hidden-xs u-color-mute\">Mississauga, ON</td>\\n          <td class=\"u-text-end\">6.35</td>\\n        </tr>\\n      \\n        <tr >\\n          <td class=\"c-table-clean__col-fit u-pr0 u-text-center\">\\n            30\\n          </td>\\n          <td>\\n            <a class=\"u-text-semi\" href=\"/swimmer/1758432\">Tori Abruzzo</a>\\n          </td>\\n          <td class=\"u-text-center hidden-xs\">\\n            \\n              \\n                &ndash;\\n              \\n            \\n          </td>\\n          <td class=\"hidden-xs u-color-mute\">Plymouth Meeting, PA</td>\\n          <td class=\"u-text-end\">6.37</td>\\n        </tr>\\n      \\n        <tr >\\n          <td class=\"c-table-clean__col-fit u-pr0 u-text-center\">\\n            31\\n          </td>\\n          <td>\\n            <a class=\"u-text-semi\" href=\"/swimmer/1659693\">Ella Jablonski</a>\\n          </td>\\n          <td class=\"u-text-center hidden-xs\">\\n            \\n              \\n                &ndash;\\n              \\n            \\n          </td>\\n          <td class=\"hidden-xs u-color-mute\">Seattle, WA</td>\\n          <td class=\"u-text-end\">6.41</td>\\n        </tr>\\n      \\n        <tr >\\n          <td class=\"c-table-clean__col-fit u-pr0 u-text-center\">\\n            32\\n          </td>\\n          <td>\\n            <a class=\"u-text-semi\" href=\"/swimmer/1822794\">Lily Gormsen</a>\\n          </td>\\n          <td class=\"u-text-center hidden-xs\">\\n            \\n              \\n                &ndash;\\n              \\n            \\n          </td>\\n          <td class=\"hidden-xs u-color-mute\">Wantagh, NY</td>\\n          <td class=\"u-text-end\">6.53</td>\\n        </tr>\\n      \\n        <tr >\\n          <td class=\"c-table-clean__col-fit u-pr0 u-text-center\">\\n            33\\n          </td>\\n          <td>\\n            <a class=\"u-text-semi\" href=\"/swimmer/1793254\">Sarah Rodrigues</a>\\n          </td>\\n          <td class=\"u-text-center hidden-xs\">\\n            \\n              \\n                &ndash;\\n              \\n            \\n          </td>\\n          <td class=\"hidden-xs u-color-mute\">Wayne, NJ</td>\\n          <td class=\"u-text-end\">6.73</td>\\n        </tr>\\n      \\n        <tr >\\n          <td class=\"c-table-clean__col-fit u-pr0 u-text-center\">\\n            34\\n          </td>\\n          <td>\\n            <a class=\"u-text-semi\" href=\"/swimmer/1736227\">Ella Cosgrove</a>\\n          </td>\\n          <td class=\"u-text-center hidden-xs\">\\n            \\n              \\n                &ndash;\\n              \\n            \\n          </td>\\n          <td class=\"hidden-xs u-color-mute\">Tucson, AZ</td>\\n          <td class=\"u-text-end\">7.09</td>\\n        </tr>\\n      \\n        <tr >\\n          <td class=\"c-table-clean__col-fit u-pr0 u-text-center\">\\n            35\\n          </td>\\n          <td>\\n            <a class=\"u-text-semi\" href=\"/swimmer/1507085\">Sophia Sunwoo</a>\\n          </td>\\n          <td class=\"u-text-center hidden-xs\">\\n            \\n              \\n                &ndash;\\n              \\n            \\n          </td>\\n          <td class=\"hidden-xs u-color-mute\">Bellevue, WA</td>\\n          <td class=\"u-text-end\">7.65</td>\\n        </tr>\\n      \\n        <tr >\\n          <td class=\"c-table-clean__col-fit u-pr0 u-text-center\">\\n            36\\n          </td>\\n          <td>\\n            <a class=\"u-text-semi\" href=\"/swimmer/1870572\">Zuri Ferguson</a>\\n          </td>\\n          <td class=\"u-text-center hidden-xs\">\\n            \\n              \\n                &ndash;\\n              \\n            \\n          </td>\\n          <td class=\"hidden-xs u-color-mute\">Attleboro, MA</td>\\n          <td class=\"u-text-end\">7.82</td>\\n        </tr>\\n      \\n        <tr >\\n          <td class=\"c-table-clean__col-fit u-pr0 u-text-center\">\\n            37\\n          </td>\\n          <td>\\n            <a class=\"u-text-semi\" href=\"/swimmer/2121595\">Julie Mishler</a>\\n          </td>\\n          <td class=\"u-text-center hidden-xs\">\\n            \\n              \\n                &ndash;\\n              \\n            \\n          </td>\\n          <td class=\"hidden-xs u-color-mute\">Milford, IN</td>\\n          <td class=\"u-text-end\">7.92</td>\\n        </tr>\\n      \\n        <tr >\\n          <td class=\"c-table-clean__col-fit u-pr0 u-text-center\">\\n            38\\n          </td>\\n          <td>\\n            <a class=\"u-text-semi\" href=\"/swimmer/2041373\">Kylie McMurray</a>\\n          </td>\\n          <td class=\"u-text-center hidden-xs\">\\n            \\n              \\n                &ndash;\\n              \\n            \\n          </td>\\n          <td class=\"hidden-xs u-color-mute\">Monroeville, NJ</td>\\n          <td class=\"u-text-end\">8.20</td>\\n        </tr>\\n      \\n        <tr >\\n          <td class=\"c-table-clean__col-fit u-pr0 u-text-center\">\\n            39\\n          </td>\\n          <td>\\n            <a class=\"u-text-semi\" href=\"/swimmer/1639916\">Taya Hutchison</a>\\n          </td>\\n          <td class=\"u-text-center hidden-xs\">\\n            \\n              \\n                &ndash;\\n              \\n            \\n          </td>\\n          <td class=\"hidden-xs u-color-mute\">Windsor, ON</td>\\n          <td class=\"u-text-end\">8.23</td>\\n        </tr>\\n      \\n        <tr >\\n          <td class=\"c-table-clean__col-fit u-pr0 u-text-center\">\\n            40\\n          </td>\\n          <td>\\n            <a class=\"u-text-semi\" href=\"/swimmer/1603535\">Amelia Mason</a>\\n          </td>\\n          <td class=\"u-text-center hidden-xs\">\\n            \\n              \\n                &ndash;\\n              \\n            \\n          </td>\\n          <td class=\"hidden-xs u-color-mute\">Boulder, CO</td>\\n          <td class=\"u-text-end\">8.26</td>\\n        </tr>\\n      \\n        <tr >\\n          <td class=\"c-table-clean__col-fit u-pr0 u-text-center\">\\n            41\\n          </td>\\n          <td>\\n            <a class=\"u-text-semi\" href=\"/swimmer/1494004\">Lexie Ward</a>\\n          </td>\\n          <td class=\"u-text-center hidden-xs\">\\n            \\n              \\n                &ndash;\\n              \\n            \\n          </td>\\n          <td class=\"hidden-xs u-color-mute\">Carmel, IN</td>\\n          <td class=\"u-text-end\">8.27</td>\\n        </tr>\\n      \\n        <tr >\\n          <td class=\"c-table-clean__col-fit u-pr0 u-text-center\">\\n            42\\n          </td>\\n          <td>\\n            <a class=\"u-text-semi\" href=\"/swimmer/1567171\">Montse Spielmann</a>\\n          </td>\\n          <td class=\"u-text-center hidden-xs\">\\n            \\n              \\n                &ndash;\\n              \\n            \\n          </td>\\n          <td class=\"hidden-xs u-color-mute\">San Antonio, TX</td>\\n          <td class=\"u-text-end\">8.51</td>\\n        </tr>\\n      \\n        <tr >\\n          <td class=\"c-table-clean__col-fit u-pr0 u-text-center\">\\n            43\\n          </td>\\n          <td>\\n            <a class=\"u-text-semi\" href=\"/swimmer/547590\">Sylvia Roy</a>\\n          </td>\\n          <td class=\"u-text-center hidden-xs\">\\n            \\n              \\n                &ndash;\\n              \\n            \\n          </td>\\n          <td class=\"hidden-xs u-color-mute\">Pittsburgh, PA</td>\\n          <td class=\"u-text-end\">8.61</td>\\n        </tr>\\n      \\n        <tr >\\n          <td class=\"c-table-clean__col-fit u-pr0 u-text-center\">\\n            43\\n          </td>\\n          <td>\\n            <a class=\"u-text-semi\" href=\"/swimmer/1481191\">Kaitlyn Sallows</a>\\n          </td>\\n          <td class=\"u-text-center hidden-xs\">\\n            \\n              \\n                &ndash;\\n              \\n            \\n          </td>\\n          <td class=\"hidden-xs u-color-mute\">Delaware, OH</td>\\n          <td class=\"u-text-end\">8.61</td>\\n        </tr>\\n      \\n        <tr >\\n          <td class=\"c-table-clean__col-fit u-pr0 u-text-center\">\\n            45\\n          </td>\\n          <td>\\n            <a class=\"u-text-semi\" href=\"/swimmer/529868\">Andrea Dworak</a>\\n          </td>\\n          <td class=\"u-text-center hidden-xs\">\\n            \\n              \\n                &ndash;\\n              \\n            \\n          </td>\\n          <td class=\"hidden-xs u-color-mute\">Bethesda, MD</td>\\n          <td class=\"u-text-end\">8.83</td>\\n        </tr>\\n      \\n        <tr >\\n          <td class=\"c-table-clean__col-fit u-pr0 u-text-center\">\\n            46\\n          </td>\\n          <td>\\n            <a class=\"u-text-semi\" href=\"/swimmer/1890237\">Becky Rentz</a>\\n          </td>\\n          <td class=\"u-text-center hidden-xs\">\\n            \\n              \\n                &ndash;\\n              \\n            \\n          </td>\\n          <td class=\"hidden-xs u-color-mute\">Aurora, IL</td>\\n          <td class=\"u-text-end\">8.92</td>\\n        </tr>\\n      \\n        <tr >\\n          <td class=\"c-table-clean__col-fit u-pr0 u-text-center\">\\n            47\\n          </td>\\n          <td>\\n            <a class=\"u-text-semi\" href=\"/swimmer/1928353\">Kathleen Turano</a>\\n          </td>\\n          <td class=\"u-text-center hidden-xs\">\\n            \\n              \\n                &ndash;\\n              \\n            \\n          </td>\\n          <td class=\"hidden-xs u-color-mute\">Wyckoff, NJ</td>\\n          <td class=\"u-text-end\">9.00</td>\\n        </tr>\\n      \\n        <tr >\\n          <td class=\"c-table-clean__col-fit u-pr0 u-text-center\">\\n            48\\n          </td>\\n          <td>\\n            <a class=\"u-text-semi\" href=\"/swimmer/1389169\">Lilly Gault Abdella</a>\\n          </td>\\n          <td class=\"u-text-center hidden-xs\">\\n            \\n              \\n                &ndash;\\n              \\n            \\n          </td>\\n          <td class=\"hidden-xs u-color-mute\">Greenville, SC</td>\\n          <td class=\"u-text-end\">9.01</td>\\n        </tr>\\n      \\n        <tr >\\n          <td class=\"c-table-clean__col-fit u-pr0 u-text-center\">\\n            49\\n          </td>\\n          <td>\\n            <a class=\"u-text-semi\" href=\"/swimmer/1124956\">Ella Mongenel</a>\\n          </td>\\n          <td class=\"u-text-center hidden-xs\">\\n            \\n              \\n                &ndash;\\n              \\n            \\n          </td>\\n          <td class=\"hidden-xs u-color-mute\">Cedar Park, TX</td>\\n          <td class=\"u-text-end\">9.09</td>\\n        </tr>\\n      \\n        <tr >\\n          <td class=\"c-table-clean__col-fit u-pr0 u-text-center\">\\n            50\\n          </td>\\n          <td>\\n            <a class=\"u-text-semi\" href=\"/swimmer/2247172\">Marin Clem</a>\\n          </td>\\n          <td class=\"u-text-center hidden-xs\">\\n            \\n              \\n                &ndash;\\n              \\n            \\n          </td>\\n          <td class=\"hidden-xs u-color-mute\">Southlake, TX</td>\\n          <td class=\"u-text-end\">9.15</td>\\n        </tr>\\n      \\n    </tbody>\\n  </table>\\n</div>\\n\\n        </div>\\n        <ul class=\"c-pagination\"><li class=\"c-pagination__item\"><button\\n            class=\"c-pagination__action c-pagination__action--active\"\\n            type=\"button\">\\n            1\\n          </button></li><li class=\"c-pagination__item\"><a class=\"c-pagination__action\"\\n             href=\"?page=2\">\\n            2\\n          </a></li><li class=\"c-pagination__item\"><a class=\"c-pagination__action\"\\n             href=\"?page=3\">\\n            3\\n          </a></li><li class=\"c-pagination__item\"><a class=\"c-pagination__action\"\\n             href=\"?page=4\">\\n            4\\n          </a></li><li class=\"c-pagination__item\"><a class=\"c-pagination__action\"\\n             href=\"?page=5\">\\n            5\\n          </a></li><li class=\"c-pagination__item\"><a class=\"c-pagination__action\"\\n             href=\"?page=6\">\\n            6\\n          </a></li><li class=\"c-pagination__item\"><a class=\"c-pagination__action\"\\n             href=\"?page=7\">\\n            7\\n          </a></li><li class=\"c-pagination__item\"><a class=\"c-pagination__action\"\\n             href=\"?page=8\">\\n            8\\n          </a></li><li class=\"c-pagination__item\"><a class=\"c-pagination__action\"\\n             href=\"?page=9\">\\n            9\\n          </a></li><li class=\"c-pagination__item\"><a class=\"c-pagination__action\"\\n             href=\"?page=10\">\\n            10\\n          </a></li><li class=\"c-pagination__item c-pagination__control\"><a\\n          class=\"c-pagination__action\"\\n          href=\"?page=2\"><span class=\"visible-xs-inline u-mr-\">Next</span><i class=\"far fa-angle-right\"></i></a></li></ul>\\n\\n      </div>\\n\\n\\n      <div class=\"col-md-3 c-sticky-filters\">\\n        <section class=\"c-drawer@sm js-drawer\">\\n          <header class=\"c-drawer__header@sm\">\\n            <h4 class=\"c-drawer__title\">Filters</h4>\\n            <button class=\"btn btn-dark c-drawer__button js-drawer-close\" type=\"button\">\\n              <i class=\"far fa-chevron-left\"></i>\\n              <span class=\"u-is-hidden-visually\">Close</span>\\n            </button>\\n          </header>\\n          <div class=\"c-drawer__body@sm\">\\n            <div class=\"form-group\">\\n              <label for=\"state-filter\">Nationality</label>\\n              <select class=\"form-control  selectredirect\" data-type=\"nationality\" id=\"nationality-filter\">\\n                <option value=\"\">All</option>\\n                \\n                  <option value=\"1\" >United States</option>\\n                \\n                  <option value=\"2\" >International</option>\\n                \\n              </select>\\n            </div>\\n            <div class=\"form-group\" id=\"states\">\\n              <label for=\"state-filter\">State</label>\\n              <select class=\"form-control  selectredirect\" data-type=\"state\" id=\"state-filter\">\\n                <option value=\"\">All States</option>\\n                \\n                  <option value=\"AL\" >Alabama</option>\\n                \\n                  <option value=\"AK\" >Alaska</option>\\n                \\n                  <option value=\"AZ\" >Arizona</option>\\n                \\n                  <option value=\"AR\" >Arkansas</option>\\n                \\n                  <option value=\"CA\" >California</option>\\n                \\n                  <option value=\"CO\" >Colorado</option>\\n                \\n                  <option value=\"CT\" >Connecticut</option>\\n                \\n                  <option value=\"DE\" >Delaware</option>\\n                \\n                  <option value=\"DC\" >D.C.</option>\\n                \\n                  <option value=\"FL\" >Florida</option>\\n                \\n                  <option value=\"GA\" >Georgia</option>\\n                \\n                  <option value=\"HI\" >Hawaii</option>\\n                \\n                  <option value=\"ID\" >Idaho</option>\\n                \\n                  <option value=\"IL\" >Illinois</option>\\n                \\n                  <option value=\"IN\" >Indiana</option>\\n                \\n                  <option value=\"IA\" >Iowa</option>\\n                \\n                  <option value=\"KS\" >Kansas</option>\\n                \\n                  <option value=\"KY\" >Kentucky</option>\\n                \\n                  <option value=\"LA\" >Louisiana</option>\\n                \\n                  <option value=\"ME\" >Maine</option>\\n                \\n                  <option value=\"MD\" >Maryland</option>\\n                \\n                  <option value=\"MA\" >Massachusetts</option>\\n                \\n                  <option value=\"MI\" >Michigan</option>\\n                \\n                  <option value=\"MN\" >Minnesota</option>\\n                \\n                  <option value=\"MS\" >Mississippi</option>\\n                \\n                  <option value=\"MO\" >Missouri</option>\\n                \\n                  <option value=\"MT\" >Montana</option>\\n                \\n                  <option value=\"NE\" >Nebraska</option>\\n                \\n                  <option value=\"NV\" >Nevada</option>\\n                \\n                  <option value=\"NH\" >New Hampshire</option>\\n                \\n                  <option value=\"NJ\" >New Jersey</option>\\n                \\n                  <option value=\"NM\" >New Mexico</option>\\n                \\n                  <option value=\"NY\" >New York</option>\\n                \\n                  <option value=\"NC\" >North Carolina</option>\\n                \\n                  <option value=\"ND\" >North Dakota</option>\\n                \\n                  <option value=\"OH\" >Ohio</option>\\n                \\n                  <option value=\"OK\" >Oklahoma</option>\\n                \\n                  <option value=\"OR\" >Oregon</option>\\n                \\n                  <option value=\"PA\" >Pennsylvania</option>\\n                \\n                  <option value=\"RI\" >Rhode Island</option>\\n                \\n                  <option value=\"SC\" >South Carolina</option>\\n                \\n                  <option value=\"SD\" >South Dakota</option>\\n                \\n                  <option value=\"TN\" >Tennessee</option>\\n                \\n                  <option value=\"TX\" >Texas</option>\\n                \\n                  <option value=\"UT\" >Utah</option>\\n                \\n                  <option value=\"VT\" >Vermont</option>\\n                \\n                  <option value=\"VA\" >Virginia</option>\\n                \\n                  <option value=\"WA\" >Washington</option>\\n                \\n                  <option value=\"WV\" >West Virginia</option>\\n                \\n                  <option value=\"WI\" >Wisconsin</option>\\n                \\n                  <option value=\"WY\" >Wyoming</option>\\n                \\n                  <option value=\"PR\" >Puerto Rico</option>\\n                \\n              </select>\\n            </div>\\n            <form method=\"get\">\\n              <label for=\"name-filter\">Name</label>\\n              <div class=\"input-group\">\\n                <input class=\"form-control\"\\n                        name=\"name\"\\n                        value=\"\"\\n                        data-type=\"name\"\\n                        id=\"name-filter\"\\n                        type=\"text\"\\n                        placeholder=\"Find by name\">\\n                  <span class=\"input-group-btn\">\\n                    <button class=\"btn  btn-default\" type=\"submit\">\\n                      <span class=\"u-is-hidden-visually\">Find by name</span>\\n                      <i class=\"far fa-search u-color-mute\"></i>\\n                    </button>\\n                  </span>\\n              </div>\\n            </form>\\n          </div>\\n        </section>\\n\\n        <div class=\"hidden-xs hidden-sm u-mv+\">\\n          <h4 class=\"c-body2 u-mb-\">FAQ</h4>\\n          <h5 class=\"c-body1\">\\n            <a href=\"/recruiting/standards/\">How is my power index calculated?</a>\\n          </h5>\\n        </div>\\n      </div>\\n    </div>\\n  </div>\\n  <button class=\"btn btn-primary btn-fab u-is-hidden@md js-drawer-open\" type=\"button\">\\n  Filters\\n</button>\\n<div class=\"c-drawer__backdrop js-drawer-backdrop\"></div>\\n\\n\\n      </div>\\n    </div>\\n\\n\\n    <script src=\"/media/js/jquery-3.6.0.min.1673429434.js\"></script>\\n    <script src=\"/media/js/bootstrap.min.1673429434.js\"></script>\\n    <script type=\"text/javascript\" src=\"/media/js/js.cookie.min.1673429434.js\"></script>\\n    \\n\\n\\n\\n    \\n\\n\\n\\n\\n  \\n\\n  <script\\n    src=\"https://browser.sentry-cdn.com/7.38.0/bundle.tracing.min.js\"\\n    integrity=\"sha384-1+NVxJuzrJqJNxlOk23abXGMOTFCVL2ijvbPWADLNAye3nGSVKDqxT6vQqZVWRMd\"\\n    crossorigin=\"anonymous\"\\n  ></script>\\n\\n\\n  <script>\\n    const WEBPACK_PATH =\\n      \"https://www.swimcloud.com/media/webpack/\";\\n\\n    Sentry.init({\\n      dsn: \"https://d5e74d4028ae4a06a155bdeee21e45cc@o375140.ingest.sentry.io/5199088\",\\n      release: \"fcbcb3218e85531541d08829a3de6a821b521266\",\\n      environment: \"production\",\\n      beforeSend(event) {\\n        if (event.exception)\\n          try {\\n            const isWebpack = event.exception.values[0].stacktrace.frames.some(\\n              (frame) => frame.filename.includes(WEBPACK_PATH)\\n            );\\n            return isWebpack ? event : null;\\n          } catch (error) {\\n            return null;\\n          }\\n        return event;\\n      },\\n      integrations: [new Sentry.BrowserTracing()],\\n      tracesSampleRate: 0.002,\\n    });\\n\\n    Sentry.configureScope((scope) => {\\n      const user = {\\n        id: Number(\"\") || undefined,\\n        email: \"\" || undefined,\\n        username: \"\" || undefined\\n      };\\n      if (user.id) scope.setUser(user);\\n    });\\n  </script>\\n\\n\\n    <script>\\n  jQuery(function($) {\\n    $(document).ready(function() {\\n      var targetElement = $(\\'.js-bs-tooltip\\');\\n      if (targetElement.length) {\\n        targetElement.tooltip({\\n          placement: \\'auto bottom\\',\\n          trigger: \\'hover\\'\\n        });\\n      }\\n    });\\n  });\\n</script>\\n\\n\\n    <script src=\"/media/js/swimcloud/drawer.1673429434.js\"></script>\\n    <script type=\"text/javascript\">\\n      //set csrf cookie for jquery ajax post calls\\n      window.onload = function (e) {\\n        function getCookie(name) {\\n            var cookieValue = null;\\n            if (document.cookie && document.cookie !== \\'\\') {\\n                var cookies = document.cookie.split(\\';\\');\\n                for (var i = 0; i < cookies.length; i++) {\\n                    var cookie = jQuery.trim(cookies[i]);\\n                    // Does this cookie string begin with the name we want?\\n                    if (cookie.substring(0, name.length + 1) === (name + \\'=\\')) {\\n                        cookieValue = decodeURIComponent(cookie.substring(name.length + 1));\\n                        break;\\n                    }\\n                }\\n            }\\n            return cookieValue;\\n        }\\n        var csrftoken = getCookie(\\'csrftoken\\');\\n        //set up cookie\\n        function csrfSafeMethod(method) {\\n            // these HTTP methods do not require CSRF protection\\n            return (/^(GET|HEAD|OPTIONS|TRACE)$/.test(method));\\n        }\\n        $.ajaxSetup({\\n            beforeSend: function(xhr, settings) {\\n                if (!csrfSafeMethod(settings.type) && !this.crossDomain) {\\n                    xhr.setRequestHeader(\"X-CSRFToken\", csrftoken);\\n                }\\n            }\\n        });\\n      };\\n    </script>\\n\\n    <script type=\"text/javascript\">\\n      // resolving: https://github.com/select2/select2/issues/3354\\n      $(document).ready(function() {\\n        $(\\':input\\').on(\\'select2:unselect\\', function(e) {\\n          var $el = $(this);\\n\\n          if ($el.data(\\'select2\\').selection.$search) {\\n            setTimeout(function () {\\n              // console.log($el.data(\\'select2\\').selection.prototype);\\n              $el.data(\\'select2\\').selection.$search.val(\"\");\\n            }, 0);\\n          };\\n        });\\n      });\\n    </script>\\n\\n    \\n\\n    \\n\\n    \\n    <script src=\"/media/js/yui3/build/yui/yui-min.js\"></script>\\n    <script>\\n        YUI().use(\"node\", \"event\", function (Y) {\\n            var selectredirect = Y.all(\\'.selectredirect\\');\\n\\n            let nationality = Y.one(\\'#nationality-filter\\').get(\\'value\\');\\n            let state = Y.one(\\'#state-filter\\').get(\\'value\\');\\n\\n            if(!state && nationality != \"1\"){\\n              Y.one(\\'#states\\').addClass(\"hidden\");\\n            }\\n            if(state && nationality != \"2\"){\\n              Y.one(\\'#nationality-filter\\').set(\\'value\\', 1);\\n            }\\n\\n            if(selectredirect) {\\n                selectredirect.each(function(node) {\\n                    node.on(\\'change\\', function() {\\n                      window.location = generateUrl(selectredirect, node.getData(\\'type\\'));\\n                    });\\n                });\\n            }\\n\\n            function generateUrl(selectredirect, type) {\\n                var select_values = [];\\n                let nationality = Y.one(\\'#nationality-filter\\').get(\\'value\\');\\n\\n                if(nationality != \"1\"){\\n                  //get states and set the selection to \"\" if the selected nationality isn\\'t United States (1)\\n                  Y.one(\\'#states\\').addClass(\"hidden\");\\n                  Y.one(\\'#state-filter\\').set(\\'value\\', 0);\\n                }\\n\\n                if (type == \\'division\\') {\\n                  Y.one(\\'#conference-filter\\').set(\\'value\\', \\'\\');\\n                }\\n\\n                if (type == \\'conference\\') {\\n                  Y.one(\\'#division-filter\\').set(\\'value\\', \\'\\');\\n                }\\n\\n                selectredirect.each(function(select) {\\n                    if (select.get(\\'value\\')) {\\n                        select_values.push(select.get(\\'value\\'));\\n                    }\\n                });\\n                return \\'/recruiting/rankings/\\' + select_values.join(\\'/\\');\\n            }\\n        });\\n\\n        function scrollToCenter(element) {\\n          var target = $(element);\\n\\n          if (target.length) {\\n            var targetOffset = target.offset().top\\n            var targetHeight = target.height();\\n            var windowHeight = $(window).height();\\n            var computedOffset = targetOffset - ((windowHeight/2) - (targetHeight/2));\\n            $(\\'html, body\\').animate({scrollTop: computedOffset}, \\'0\\');\\n          }\\n          return false;\\n        };\\n\\n        $(window).on(\\'load\\', function() {\\n          scrollToCenter(\\'.js-active-row\\');\\n        });\\n    </script>\\n\\n  <script>\\n  $(document).ready(function() {\\n    $(\\'.js-drawer-open, .js-drawer-backdrop, .js-drawer-close\\').on(\\'click touchstart\\', function (e) {\\n      $(\\'.js-html\\').toggleClass(\\'u-overflow-hidden\\');\\n      $(\\'.js-drawer, .js-drawer-backdrop\\').toggleClass(\\'is-visible\\');\\n      e.preventDefault();\\n    });\\n  });\\n</script>\\n\\n\\n\\n\\n      <script type=\\'text/javascript\\'>\\n          /*\\n           * Hacky fix for a bug in select2 with jQuery 3.6.0\\'s new nested-focus \"protection\"\\n           * see: https://github.com/select2/select2/issues/5993\\n           * see: https://github.com/jquery/jquery/issues/4382\\n           *\\n           * TODO: Recheck with the select2 GH issue and remove once this is fixed on their side\\n           */\\n          $(document).on(\\'select2:open\\', () => {\\n            setTimeout(() => document.querySelector(\\'.select2-search__field\\').focus(), 100);\\n          });\\n      </script>\\n\\n    \\n\\n\\n    \\n    \\n\\n<script type=\"text/javascript\">\\n  var csrf_token = \"5DsFaNbSfW5uXW62zq92zwcLVIX5HOpvgy3S3ldvN99bv41M8WpZwW7NvjR7HHDA\";\\n  var tz_set_endpoint = \\'/tz_detect/\\';\\n  var csrf_header_name = \\'x-csrftoken\\';\\n  (function() {\\n    var tz_script = document.createElement(\\'script\\');\\n    tz_script.src = \\'/media/static/tz_detect/js/tzdetect.min.cbab13600a82.js\\';\\n    tz_script.setAttribute(\\'async\\', \\'true\\');\\n    var s = document.getElementsByTagName(\\'script\\')[0]; s.parentNode.insertBefore(tz_script, s);\\n  })();\\n</script>\\n\\n\\n  </body>\\n</html>\\n'"
      ]
     },
     "execution_count": 5,
     "metadata": {},
     "output_type": "execute_result"
    }
   ],
   "source": [
    "response.content"
   ]
  },
  {
   "cell_type": "code",
   "execution_count": 6,
   "id": "0f129ef0",
   "metadata": {},
   "outputs": [],
   "source": [
    "page_content=BeautifulSoup(response.content,'html.parser')"
   ]
  },
  {
   "cell_type": "code",
   "execution_count": 7,
   "id": "99929bd0",
   "metadata": {},
   "outputs": [
    {
     "data": {
      "text/plain": [
       "'<!DOCTYPE html>\\n<html class=\"js-html\" lang=\"en\">\\n <head>\\n  <script async=\"\" src=\"https://www.googletagmanager.com/gtag/js?id=G-V8NLDKPXH3\">\\n  </script>\\n  <script>\\n   window.dataLayer = window.dataLayer || [];\\n    function gtag(){dataLayer.push(arguments);}\\n    gtag(\\'js\\', new Date());\\n\\n    gtag(\\'config\\', \\'G-V8NLDKPXH3\\', {\\n      \\'user_id\\': \\'\\'\\n    });\\n  </script>\\n  <meta charset=\"utf-8\"/>\\n  <meta content=\"ie=edge\" http-equiv=\"x-ua-compatible\"/>\\n  <meta content=\"width=device-width, initial-scale=1, shrink-to-fit=no\" name=\"viewport\"/>\\n  <meta content=\"Index, Follow\" name=\"robots\"/>\\n  <title>\\n   Recruit Rankings\\n  </title>\\n  <meta content=\"Your home for results, rankings, data and all things swimming.\" name=\"description\">\\n   <link href=\"https://fonts.googleapis.com\" rel=\"preconnect\"/>\\n   <link crossorigin=\"\" href=\"https://fonts.gstatic.com\" rel=\"preconnect\"/>\\n   <link href=\"https://fonts.googleapis.com/css2?family=Roboto:ital,wght@0,400;0,500;0,700;1,400;1,500&amp;display=swap\" rel=\"stylesheet\"/>\\n   <link href=\"/media/css/main.1679990903.css\" media=\"all\" rel=\"stylesheet\"/>\\n   <link href=\"/media/webpack/globalSearch/index.1673429435.css\" rel=\"stylesheet\"/>\\n   <script defer=\"\" src=\"/media/webpack/globalSearch/index.1676450527.js\">\\n   </script>\\n   <link href=\"/media/img/swimcloud/favicons/favicon.ico\" rel=\"shortcut icon\"/>\\n   <link href=\"/media/img/swimcloud/favicons/favicon-32x32.png\" rel=\"icon\" sizes=\"32x32\" type=\"image/png\"/>\\n   <link href=\"/media/img/swimcloud/favicons/favicon-16x16.png\" rel=\"icon\" sizes=\"16x16\" type=\"image/png\"/>\\n   <link href=\"/media/img/swimcloud/favicons/apple-touch-icon.png\" rel=\"apple-touch-icon\" sizes=\"180x180\"/>\\n   <script type=\"text/javascript\">\\n    var _sf_startpt=(new Date()).getTime();\\n   </script>\\n  </meta>\\n </head>\\n <body class=\"yui3-skin-sam\">\\n  <!-- Google Tag Manager (noscript) -->\\n  <noscript>\\n   <iframe height=\"0\" src=\"https://www.googletagmanager.com/ns.html?id=GTM-WDZBFJZ\" style=\"display:none;visibility:hidden\" width=\"0\">\\n   </iframe>\\n  </noscript>\\n  <!-- End Google Tag Manager (noscript) -->\\n  <div class=\"c-header\">\\n   <div class=\"c-header__start\">\\n    <button aria-label=\"Main menu\" class=\"c-header__toggle-btn c-header__toggle-btn--desktop js-sc-drawer-desktop-toggle\" type=\"button\">\\n     <svg height=\"24\" viewbox=\"0 0 24 24\" width=\"24\" xmlns=\"http://www.w3.org/2000/svg\">\\n      <path d=\"M0 0h24v24H0z\" fill=\"none\">\\n      </path>\\n      <path d=\"M3 18h18v-2H3v2zm0-5h18v-2H3v2zm0-7v2h18V6H3z\">\\n      </path>\\n     </svg>\\n    </button>\\n    <button aria-label=\"Main menu\" class=\"c-header__toggle-btn c-header__toggle-btn--mobile js-sc-drawer-mobile-toggle\" type=\"button\">\\n     <svg height=\"24\" viewbox=\"0 0 24 24\" width=\"24\" xmlns=\"http://www.w3.org/2000/svg\">\\n      <path d=\"M0 0h24v24H0z\" fill=\"none\">\\n      </path>\\n      <path d=\"M3 18h18v-2H3v2zm0-5h18v-2H3v2zm0-7v2h18V6H3z\">\\n      </path>\\n     </svg>\\n    </button>\\n    <a class=\"c-header__home\" href=\"/\">\\n     <img alt=\"Swimcloud logo\" class=\"c-header__logo hidden-xs\" src=\"/media/img/swimcloud/logos/swimcloud.svg\"/>\\n     <img alt=\"Swimcloud logo compact version\" class=\"c-header__logo visible-xs\" height=\"20\" src=\"/media/img/swimcloud/logos/swimcloud-simple.svg\"/>\\n    </a>\\n   </div>\\n   <div class=\"c-header__search\" id=\"global-search\">\\n   </div>\\n   <div class=\"c-header__end\">\\n    <nav class=\"c-nav c-nav--inline c-nav--global\">\\n     <a class=\"c-nav__item u-text-upcase hidden-xs\" href=\"/login\">\\n      Login\\n     </a>\\n     <a class=\"c-nav__item u-text-upcase hidden-xs\" href=\"/register\">\\n      Register\\n     </a>\\n     <div class=\"visible-xs dropdown\">\\n      <button aria-label=\"Login or Register dropdown\" class=\"c-nav__item dropdown-toggle\" data-toggle=\"dropdown\" type=\"button\">\\n       <i aria-hidden=\"true\" class=\"fas fa-user-circle fa-2x\">\\n       </i>\\n      </button>\\n      <ul class=\"dropdown-menu dropdown-menu-right\">\\n       <li>\\n        <a href=\"/login\">\\n         Login\\n        </a>\\n       </li>\\n       <li>\\n        <a href=\"/register\">\\n         Register\\n        </a>\\n       </li>\\n      </ul>\\n     </div>\\n    </nav>\\n   </div>\\n  </div>\\n  <div class=\"c-layout\">\\n   <div class=\"c-sc-drawer c-sc-drawer--desktop js-sc-drawer-desktop\">\\n    <nav class=\"c-nav c-nav--compact\">\\n     <a class=\"c-nav__item\" href=\"/\">\\n      <i aria-hidden=\"true\" class=\"c-nav__icon far fa-home-alt\">\\n      </i>\\n      Home\\n     </a>\\n     <a class=\"c-nav__item\" href=\"/results/\">\\n      <i aria-hidden=\"true\" class=\"c-nav__icon far fa-list-alt\">\\n      </i>\\n      Meets\\n     </a>\\n     <a class=\"c-nav__item\" href=\"/times/\">\\n      <i aria-hidden=\"true\" class=\"c-nav__icon far fa-stopwatch\">\\n      </i>\\n      Top Times\\n     </a>\\n     <a class=\"c-nav__item\" href=\"/team/rankings/\">\\n      <i aria-hidden=\"true\" class=\"c-nav__icon far fa-tshirt\">\\n      </i>\\n      Team Rankings\\n     </a>\\n     <a class=\"c-nav__item c-nav__item--active\" href=\"/recruiting/\">\\n      <i aria-hidden=\"true\" class=\"c-nav__icon far fa-graduation-cap\">\\n      </i>\\n      Recruiting\\n     </a>\\n     <a class=\"c-nav__item\" href=\"/videos/\">\\n      <i aria-hidden=\"true\" class=\"c-nav__icon far fa-video\">\\n      </i>\\n      Videos\\n     </a>\\n     <a class=\"c-nav__item\" href=\"/meetsimulator/\">\\n      <i aria-hidden=\"true\" class=\"c-nav__icon far fa-wand-magic-sparkles\">\\n      </i>\\n      Meet Simulator\\n     </a>\\n     <div class=\"c-nav__group\">\\n      <a class=\"c-nav__item\" href=\"/help\">\\n       <i aria-hidden=\"true\" class=\"c-nav__icon far fa-question-circle\">\\n       </i>\\n       Help\\n      </a>\\n     </div>\\n    </nav>\\n    <footer class=\"c-footer\">\\n     <nav class=\"c-footer__nav\">\\n      <a class=\"c-footer__link\" href=\"/privacy\">\\n       Privacy\\n      </a>\\n      <a class=\"c-footer__link\" href=\"/terms\">\\n       Terms\\n      </a>\\n     </nav>\\n    </footer>\\n   </div>\\n   <div class=\"c-sc-drawer c-sc-drawer--mobile js-sc-drawer-mobile\">\\n    <header class=\"c-sc-drawer__header-mobile\">\\n     <a class=\"u-block\" href=\"/\">\\n      <img alt=\"Swimcloud\" src=\"/media/img/swimcloud/logos/swimcloud.svg\"/>\\n     </a>\\n     <button class=\"btn btn-icon btn-icon-plain js-sc-drawer-mobile-close\" type=\"button\">\\n      <i class=\"far fa-chevron-left\">\\n      </i>\\n      <span class=\"u-is-hidden-visually\">\\n       Close\\n      </span>\\n     </button>\\n    </header>\\n    <nav class=\"c-nav c-nav--compact\">\\n     <a class=\"c-nav__item\" href=\"/\">\\n      <i aria-hidden=\"true\" class=\"c-nav__icon far fa-home-alt\">\\n      </i>\\n      Home\\n     </a>\\n     <a class=\"c-nav__item\" href=\"/results/\">\\n      <i aria-hidden=\"true\" class=\"c-nav__icon far fa-list-alt\">\\n      </i>\\n      Meets\\n     </a>\\n     <a class=\"c-nav__item\" href=\"/times/\">\\n      <i aria-hidden=\"true\" class=\"c-nav__icon far fa-stopwatch\">\\n      </i>\\n      Top Times\\n     </a>\\n     <a class=\"c-nav__item\" href=\"/team/rankings/\">\\n      <i aria-hidden=\"true\" class=\"c-nav__icon far fa-tshirt\">\\n      </i>\\n      Team Rankings\\n     </a>\\n     <a class=\"c-nav__item c-nav__item--active\" href=\"/recruiting/\">\\n      <i aria-hidden=\"true\" class=\"c-nav__icon far fa-graduation-cap\">\\n      </i>\\n      Recruiting\\n     </a>\\n     <a class=\"c-nav__item\" href=\"/videos/\">\\n      <i aria-hidden=\"true\" class=\"c-nav__icon far fa-video\">\\n      </i>\\n      Videos\\n     </a>\\n     <a class=\"c-nav__item\" href=\"/meetsimulator/\">\\n      <i aria-hidden=\"true\" class=\"c-nav__icon far fa-wand-magic-sparkles\">\\n      </i>\\n      Meet Simulator\\n     </a>\\n     <div class=\"c-nav__group\">\\n      <a class=\"c-nav__item\" href=\"/help\">\\n       <i aria-hidden=\"true\" class=\"c-nav__icon far fa-question-circle\">\\n       </i>\\n       Help\\n      </a>\\n     </div>\\n    </nav>\\n    <footer class=\"c-footer\">\\n     <nav class=\"c-footer__nav\">\\n      <a class=\"c-footer__link\" href=\"/privacy\">\\n       Privacy\\n      </a>\\n      <a class=\"c-footer__link\" href=\"/terms\">\\n       Terms\\n      </a>\\n     </nav>\\n    </footer>\\n   </div>\\n   <div class=\"c-sc-drawer__backdrop-mobile js-sc-drawer-mobile-backdrop\">\\n   </div>\\n   <div class=\"c-layout__main js-alerts-container\">\\n    <div class=\"container\">\\n     <div class=\"c-toolbar\">\\n      <div class=\"c-toolbar__header u-flex u-flex-justify-between\">\\n       <div class=\"u-flex u-flex-align-items-center\">\\n        <div class=\"c-toolbar__media c-toolbar__media-badge\">\\n         <i class=\"far fa-graduation-cap\">\\n         </i>\\n        </div>\\n        <h1 class=\"c-toolbar__title\">\\n         Recruiting\\n        </h1>\\n       </div>\\n       <div class=\"u-flex u-flex-align-items-center\" id=\"class-type\">\\n        <select class=\"form-control selectredirect c-recruiting-filter\" data-type=\"gradhs\" id=\"gradhs-filter\">\\n         <option selected=\"\" value=\"2025\">\\n          2025\\n         </option>\\n         <option value=\"2024\">\\n          2024\\n         </option>\\n         <option value=\"2023\">\\n          2023\\n         </option>\\n         <option value=\"2022\">\\n          2022\\n         </option>\\n         <option value=\"2021\">\\n          2021\\n         </option>\\n         <option value=\"2020\">\\n          2020\\n         </option>\\n         <option value=\"2019\">\\n          2019\\n         </option>\\n         <option value=\"2018\">\\n          2018\\n         </option>\\n        </select>\\n        <div class=\"c-recruiting-filter-separator\">\\n        </div>\\n        <select class=\"form-control selectredirect c-recruiting-filter\" data-type=\"gender\" id=\"gender-filter\">\\n         <option value=\"M\">\\n          Men\\n         </option>\\n         <option selected=\"\" value=\"F\">\\n          Women\\n         </option>\\n        </select>\\n       </div>\\n      </div>\\n      <div class=\"c-toolbar__nav\">\\n       <nav class=\"c-nav c-nav--inline c-nav--responsive\">\\n        <a class=\"c-nav__item c-nav__item--active\" href=\"/recruiting/rankings/\">\\n         Rankings\\n        </a>\\n        <a class=\"c-nav__item\" href=\"/recruiting/commitments/\">\\n         Commitments\\n        </a>\\n        <a class=\"c-nav__item\" href=\"/recruiting/campus-visits/\">\\n         Campus visits\\n        </a>\\n       </nav>\\n      </div>\\n     </div>\\n    </div>\\n    <div class=\"container\">\\n     <div class=\"row row--large\">\\n      <div class=\"col-md-9\">\\n       <div class=\"c-card u-overflow-hidden\">\\n        <div class=\"c-table-clean--responsive\">\\n         <table class=\"c-table-clean c-table-clean--middle table table-hover\">\\n          <thead>\\n           <tr>\\n            <th colspan=\"2\">\\n             Name\\n            </th>\\n            <th class=\"u-text-center hidden-xs\">\\n             Commitment\\n            </th>\\n            <th class=\"hidden-xs\">\\n             Hometown\\n            </th>\\n            <th class=\"c-table-clean__col-fit u-text-end\">\\n             Power Index\\n            </th>\\n           </tr>\\n          </thead>\\n          <tbody>\\n           <tr>\\n            <td class=\"c-table-clean__col-fit u-pr0 u-text-center\">\\n             1\\n            </td>\\n            <td>\\n             <a class=\"u-text-semi\" href=\"/swimmer/1866987\">\\n              Alex Shackell\\n             </a>\\n            </td>\\n            <td class=\"u-text-center hidden-xs\">\\n             –\\n            </td>\\n            <td class=\"hidden-xs u-color-mute\">\\n             Carmel, IN\\n            </td>\\n            <td class=\"u-text-end\">\\n             1.00\\n            </td>\\n           </tr>\\n           <tr>\\n            <td class=\"c-table-clean__col-fit u-pr0 u-text-center\">\\n             2\\n            </td>\\n            <td>\\n             <a class=\"u-text-semi\" href=\"/swimmer/505050\">\\n              Teagan O\\'Dell\\n             </a>\\n            </td>\\n            <td class=\"u-text-center hidden-xs\">\\n             –\\n            </td>\\n            <td class=\"hidden-xs u-color-mute\">\\n             Chino Hills, CA\\n            </td>\\n            <td class=\"u-text-end\">\\n             1.01\\n            </td>\\n           </tr>\\n           <tr>\\n            <td class=\"c-table-clean__col-fit u-pr0 u-text-center\">\\n             3\\n            </td>\\n            <td>\\n             <a class=\"u-text-semi\" href=\"/swimmer/1639488\">\\n              Claire Weinstein\\n             </a>\\n            </td>\\n            <td class=\"u-text-center hidden-xs\">\\n             –\\n            </td>\\n            <td class=\"hidden-xs u-color-mute\">\\n             Las Vegas, NV\\n            </td>\\n            <td class=\"u-text-end\">\\n             1.05\\n            </td>\\n           </tr>\\n           <tr>\\n            <td class=\"c-table-clean__col-fit u-pr0 u-text-center\">\\n             4\\n            </td>\\n            <td>\\n             <a class=\"u-text-semi\" href=\"/swimmer/450050\">\\n              Madi Mintenko\\n             </a>\\n            </td>\\n            <td class=\"u-text-center hidden-xs\">\\n             –\\n            </td>\\n            <td class=\"hidden-xs u-color-mute\">\\n             Colorado Springs, CO\\n            </td>\\n            <td class=\"u-text-end\">\\n             1.29\\n            </td>\\n           </tr>\\n           <tr>\\n            <td class=\"c-table-clean__col-fit u-pr0 u-text-center\">\\n             5\\n            </td>\\n            <td>\\n             <a class=\"u-text-semi\" href=\"/swimmer/1470504\">\\n              Lynsey Bowen\\n             </a>\\n            </td>\\n            <td class=\"u-text-center hidden-xs\">\\n             –\\n            </td>\\n            <td class=\"hidden-xs u-color-mute\">\\n             Carmel, IN\\n            </td>\\n            <td class=\"u-text-end\">\\n             1.38\\n            </td>\\n           </tr>\\n           <tr>\\n            <td class=\"c-table-clean__col-fit u-pr0 u-text-center\">\\n             6\\n            </td>\\n            <td>\\n             <a class=\"u-text-semi\" href=\"/swimmer/1624791\">\\n              Chloe Kim\\n             </a>\\n            </td>\\n            <td class=\"u-text-center hidden-xs\">\\n             –\\n            </td>\\n            <td class=\"hidden-xs u-color-mute\">\\n             Glen Rock, NJ\\n            </td>\\n            <td class=\"u-text-end\">\\n             1.39\\n            </td>\\n           </tr>\\n           <tr>\\n            <td class=\"c-table-clean__col-fit u-pr0 u-text-center\">\\n             7\\n            </td>\\n            <td>\\n             <a class=\"u-text-semi\" href=\"/swimmer/1984429\">\\n              Lilla Bognar\\n             </a>\\n            </td>\\n            <td class=\"u-text-center hidden-xs\">\\n             –\\n            </td>\\n            <td class=\"hidden-xs u-color-mute\">\\n             Travelers Rest, SC\\n            </td>\\n            <td class=\"u-text-end\">\\n             1.76\\n            </td>\\n           </tr>\\n           <tr>\\n            <td class=\"c-table-clean__col-fit u-pr0 u-text-center\">\\n             8\\n            </td>\\n            <td>\\n             <a class=\"u-text-semi\" href=\"/swimmer/2305972\">\\n              Laila Oravsky\\n             </a>\\n            </td>\\n            <td class=\"u-text-center hidden-xs\">\\n             –\\n            </td>\\n            <td class=\"hidden-xs u-color-mute\">\\n             Barrie, ON\\n            </td>\\n            <td class=\"u-text-end\">\\n             1.84\\n            </td>\\n           </tr>\\n           <tr>\\n            <td class=\"c-table-clean__col-fit u-pr0 u-text-center\">\\n             9\\n            </td>\\n            <td>\\n             <a class=\"u-text-semi\" href=\"/swimmer/1823580\">\\n              Lily King\\n             </a>\\n            </td>\\n            <td class=\"u-text-center hidden-xs\">\\n             –\\n            </td>\\n            <td class=\"hidden-xs u-color-mute\">\\n             Latrobe, PA\\n            </td>\\n            <td class=\"u-text-end\">\\n             2.15\\n            </td>\\n           </tr>\\n           <tr>\\n            <td class=\"c-table-clean__col-fit u-pr0 u-text-center\">\\n             10\\n            </td>\\n            <td>\\n             <a class=\"u-text-semi\" href=\"/swimmer/1588446\">\\n              Addie Robillard\\n             </a>\\n            </td>\\n            <td class=\"u-text-center hidden-xs\">\\n             –\\n            </td>\\n            <td class=\"hidden-xs u-color-mute\">\\n             Mason, OH\\n            </td>\\n            <td class=\"u-text-end\">\\n             2.32\\n            </td>\\n           </tr>\\n           <tr>\\n            <td class=\"c-table-clean__col-fit u-pr0 u-text-center\">\\n             11\\n            </td>\\n            <td>\\n             <a class=\"u-text-semi\" href=\"/swimmer/1734157\">\\n              Nicole Zettel\\n             </a>\\n            </td>\\n            <td class=\"u-text-center hidden-xs\">\\n             –\\n            </td>\\n            <td class=\"hidden-xs u-color-mute\">\\n             Holly Springs, NC\\n            </td>\\n            <td class=\"u-text-end\">\\n             2.95\\n            </td>\\n           </tr>\\n           <tr>\\n            <td class=\"c-table-clean__col-fit u-pr0 u-text-center\">\\n             12\\n            </td>\\n            <td>\\n             <a class=\"u-text-semi\" href=\"/swimmer/1799659\">\\n              Raya Mellott\\n             </a>\\n            </td>\\n            <td class=\"u-text-center hidden-xs\">\\n             –\\n            </td>\\n            <td class=\"hidden-xs u-color-mute\">\\n             Danville, CA\\n            </td>\\n            <td class=\"u-text-end\">\\n             2.99\\n            </td>\\n           </tr>\\n           <tr>\\n            <td class=\"c-table-clean__col-fit u-pr0 u-text-center\">\\n             13\\n            </td>\\n            <td>\\n             <a class=\"u-text-semi\" href=\"/swimmer/1828196\">\\n              Elle Scott\\n             </a>\\n            </td>\\n            <td class=\"u-text-center hidden-xs\">\\n             –\\n            </td>\\n            <td class=\"hidden-xs u-color-mute\">\\n             Richmond, VA\\n            </td>\\n            <td class=\"u-text-end\">\\n             3.27\\n            </td>\\n           </tr>\\n           <tr>\\n            <td class=\"c-table-clean__col-fit u-pr0 u-text-center\">\\n             14\\n            </td>\\n            <td>\\n             <a class=\"u-text-semi\" href=\"/swimmer/2160778\">\\n              Bella Brito\\n             </a>\\n            </td>\\n            <td class=\"u-text-center hidden-xs\">\\n             –\\n            </td>\\n            <td class=\"hidden-xs u-color-mute\">\\n             Santa Monica, CA\\n            </td>\\n            <td class=\"u-text-end\">\\n             3.42\\n            </td>\\n           </tr>\\n           <tr>\\n            <td class=\"c-table-clean__col-fit u-pr0 u-text-center\">\\n             15\\n            </td>\\n            <td>\\n             <a class=\"u-text-semi\" href=\"/swimmer/1531962\">\\n              Annie Jia\\n             </a>\\n            </td>\\n            <td class=\"u-text-center hidden-xs\">\\n             –\\n            </td>\\n            <td class=\"hidden-xs u-color-mute\">\\n             Ambler, PA\\n            </td>\\n            <td class=\"u-text-end\">\\n             3.51\\n            </td>\\n           </tr>\\n           <tr>\\n            <td class=\"c-table-clean__col-fit u-pr0 u-text-center\">\\n             16\\n            </td>\\n            <td>\\n             <a class=\"u-text-semi\" href=\"/swimmer/1210019\">\\n              Haley McDonald\\n             </a>\\n            </td>\\n            <td class=\"u-text-center hidden-xs\">\\n             –\\n            </td>\\n            <td class=\"hidden-xs u-color-mute\">\\n             Louisville, KY\\n            </td>\\n            <td class=\"u-text-end\">\\n             3.55\\n            </td>\\n           </tr>\\n           <tr>\\n            <td class=\"c-table-clean__col-fit u-pr0 u-text-center\">\\n             17\\n            </td>\\n            <td>\\n             <a class=\"u-text-semi\" href=\"/swimmer/1385130\">\\n              Martina Bukvic\\n             </a>\\n            </td>\\n            <td class=\"u-text-center hidden-xs\">\\n             –\\n            </td>\\n            <td class=\"hidden-xs u-color-mute\">\\n             Belgrade, SRB\\n            </td>\\n            <td class=\"u-text-end\">\\n             3.61\\n            </td>\\n           </tr>\\n           <tr>\\n            <td class=\"c-table-clean__col-fit u-pr0 u-text-center\">\\n             18\\n            </td>\\n            <td>\\n             <a class=\"u-text-semi\" href=\"/swimmer/1504320\">\\n              Annam Olasewere\\n             </a>\\n            </td>\\n            <td class=\"u-text-center hidden-xs\">\\n             –\\n            </td>\\n            <td class=\"hidden-xs u-color-mute\">\\n             Westport, CT\\n            </td>\\n            <td class=\"u-text-end\">\\n             3.64\\n            </td>\\n           </tr>\\n           <tr>\\n            <td class=\"c-table-clean__col-fit u-pr0 u-text-center\">\\n             19\\n            </td>\\n            <td>\\n             <a class=\"u-text-semi\" href=\"/swimmer/1166482\">\\n              Grace Rabb\\n             </a>\\n            </td>\\n            <td class=\"u-text-center hidden-xs\">\\n             –\\n            </td>\\n            <td class=\"hidden-xs u-color-mute\">\\n             Chaska, MN\\n            </td>\\n            <td class=\"u-text-end\">\\n             4.92\\n            </td>\\n           </tr>\\n           <tr>\\n            <td class=\"c-table-clean__col-fit u-pr0 u-text-center\">\\n             20\\n            </td>\\n            <td>\\n             <a class=\"u-text-semi\" href=\"/swimmer/1796628\">\\n              Alana Berlin\\n             </a>\\n            </td>\\n            <td class=\"u-text-center hidden-xs\">\\n             –\\n            </td>\\n            <td class=\"hidden-xs u-color-mute\">\\n             Franklin, WI\\n            </td>\\n            <td class=\"u-text-end\">\\n             4.98\\n            </td>\\n           </tr>\\n           <tr>\\n            <td class=\"c-table-clean__col-fit u-pr0 u-text-center\">\\n             21\\n            </td>\\n            <td>\\n             <a class=\"u-text-semi\" href=\"/swimmer/1798994\">\\n              Kennedi Dobson\\n             </a>\\n            </td>\\n            <td class=\"u-text-center hidden-xs\">\\n             –\\n            </td>\\n            <td class=\"hidden-xs u-color-mute\">\\n             Levittown, PA\\n            </td>\\n            <td class=\"u-text-end\">\\n             5.02\\n            </td>\\n           </tr>\\n           <tr>\\n            <td class=\"c-table-clean__col-fit u-pr0 u-text-center\">\\n             22\\n            </td>\\n            <td>\\n             <a class=\"u-text-semi\" href=\"/swimmer/1434899\">\\n              Avery Collins\\n             </a>\\n            </td>\\n            <td class=\"u-text-center hidden-xs\">\\n             –\\n            </td>\\n            <td class=\"hidden-xs u-color-mute\">\\n             Keller, TX\\n            </td>\\n            <td class=\"u-text-end\">\\n             5.12\\n            </td>\\n           </tr>\\n           <tr>\\n            <td class=\"c-table-clean__col-fit u-pr0 u-text-center\">\\n             23\\n            </td>\\n            <td>\\n             <a class=\"u-text-semi\" href=\"/swimmer/1827610\">\\n              Emily Hamill\\n             </a>\\n            </td>\\n            <td class=\"u-text-center hidden-xs\">\\n             –\\n            </td>\\n            <td class=\"hidden-xs u-color-mute\">\\n             Collegeville, PA\\n            </td>\\n            <td class=\"u-text-end\">\\n             5.13\\n            </td>\\n           </tr>\\n           <tr>\\n            <td class=\"c-table-clean__col-fit u-pr0 u-text-center\">\\n             24\\n            </td>\\n            <td>\\n             <a class=\"u-text-semi\" href=\"/swimmer/2065201\">\\n              Mere Whelehan\\n             </a>\\n            </td>\\n            <td class=\"u-text-center hidden-xs\">\\n             –\\n            </td>\\n            <td class=\"hidden-xs u-color-mute\">\\n             Cary, NC\\n            </td>\\n            <td class=\"u-text-end\">\\n             5.54\\n            </td>\\n           </tr>\\n           <tr>\\n            <td class=\"c-table-clean__col-fit u-pr0 u-text-center\">\\n             25\\n            </td>\\n            <td>\\n             <a class=\"u-text-semi\" href=\"/swimmer/1870133\">\\n              Alexa McDevitt\\n             </a>\\n            </td>\\n            <td class=\"u-text-center hidden-xs\">\\n             –\\n            </td>\\n            <td class=\"hidden-xs u-color-mute\">\\n             Mercer Island, WA\\n            </td>\\n            <td class=\"u-text-end\">\\n             5.86\\n            </td>\\n           </tr>\\n           <tr>\\n            <td class=\"c-table-clean__col-fit u-pr0 u-text-center\">\\n             26\\n            </td>\\n            <td>\\n             <a class=\"u-text-semi\" href=\"/swimmer/1808794\">\\n              Maya Bezanson\\n             </a>\\n            </td>\\n            <td class=\"u-text-center hidden-xs\">\\n             –\\n            </td>\\n            <td class=\"hidden-xs u-color-mute\">\\n             Toronto, ON\\n            </td>\\n            <td class=\"u-text-end\">\\n             5.87\\n            </td>\\n           </tr>\\n           <tr>\\n            <td class=\"c-table-clean__col-fit u-pr0 u-text-center\">\\n             27\\n            </td>\\n            <td>\\n             <a class=\"u-text-semi\" href=\"/swimmer/1587347\">\\n              Sophia Umstead\\n             </a>\\n            </td>\\n            <td class=\"u-text-center hidden-xs\">\\n             –\\n            </td>\\n            <td class=\"hidden-xs u-color-mute\">\\n             Jenison, MI\\n            </td>\\n            <td class=\"u-text-end\">\\n             5.90\\n            </td>\\n           </tr>\\n           <tr>\\n            <td class=\"c-table-clean__col-fit u-pr0 u-text-center\">\\n             28\\n            </td>\\n            <td>\\n             <a class=\"u-text-semi\" href=\"/swimmer/2010789\">\\n              Jada Duncan\\n             </a>\\n            </td>\\n            <td class=\"u-text-center hidden-xs\">\\n             –\\n            </td>\\n            <td class=\"hidden-xs u-color-mute\">\\n             Rocklin, CA\\n            </td>\\n            <td class=\"u-text-end\">\\n             6.24\\n            </td>\\n           </tr>\\n           <tr>\\n            <td class=\"c-table-clean__col-fit u-pr0 u-text-center\">\\n             29\\n            </td>\\n            <td>\\n             <a class=\"u-text-semi\" href=\"/swimmer/2253713\">\\n              Sylvia Statkevicius\\n             </a>\\n            </td>\\n            <td class=\"u-text-center hidden-xs\">\\n             –\\n            </td>\\n            <td class=\"hidden-xs u-color-mute\">\\n             Mississauga, ON\\n            </td>\\n            <td class=\"u-text-end\">\\n             6.35\\n            </td>\\n           </tr>\\n           <tr>\\n            <td class=\"c-table-clean__col-fit u-pr0 u-text-center\">\\n             30\\n            </td>\\n            <td>\\n             <a class=\"u-text-semi\" href=\"/swimmer/1758432\">\\n              Tori Abruzzo\\n             </a>\\n            </td>\\n            <td class=\"u-text-center hidden-xs\">\\n             –\\n            </td>\\n            <td class=\"hidden-xs u-color-mute\">\\n             Plymouth Meeting, PA\\n            </td>\\n            <td class=\"u-text-end\">\\n             6.37\\n            </td>\\n           </tr>\\n           <tr>\\n            <td class=\"c-table-clean__col-fit u-pr0 u-text-center\">\\n             31\\n            </td>\\n            <td>\\n             <a class=\"u-text-semi\" href=\"/swimmer/1659693\">\\n              Ella Jablonski\\n             </a>\\n            </td>\\n            <td class=\"u-text-center hidden-xs\">\\n             –\\n            </td>\\n            <td class=\"hidden-xs u-color-mute\">\\n             Seattle, WA\\n            </td>\\n            <td class=\"u-text-end\">\\n             6.41\\n            </td>\\n           </tr>\\n           <tr>\\n            <td class=\"c-table-clean__col-fit u-pr0 u-text-center\">\\n             32\\n            </td>\\n            <td>\\n             <a class=\"u-text-semi\" href=\"/swimmer/1822794\">\\n              Lily Gormsen\\n             </a>\\n            </td>\\n            <td class=\"u-text-center hidden-xs\">\\n             –\\n            </td>\\n            <td class=\"hidden-xs u-color-mute\">\\n             Wantagh, NY\\n            </td>\\n            <td class=\"u-text-end\">\\n             6.53\\n            </td>\\n           </tr>\\n           <tr>\\n            <td class=\"c-table-clean__col-fit u-pr0 u-text-center\">\\n             33\\n            </td>\\n            <td>\\n             <a class=\"u-text-semi\" href=\"/swimmer/1793254\">\\n              Sarah Rodrigues\\n             </a>\\n            </td>\\n            <td class=\"u-text-center hidden-xs\">\\n             –\\n            </td>\\n            <td class=\"hidden-xs u-color-mute\">\\n             Wayne, NJ\\n            </td>\\n            <td class=\"u-text-end\">\\n             6.73\\n            </td>\\n           </tr>\\n           <tr>\\n            <td class=\"c-table-clean__col-fit u-pr0 u-text-center\">\\n             34\\n            </td>\\n            <td>\\n             <a class=\"u-text-semi\" href=\"/swimmer/1736227\">\\n              Ella Cosgrove\\n             </a>\\n            </td>\\n            <td class=\"u-text-center hidden-xs\">\\n             –\\n            </td>\\n            <td class=\"hidden-xs u-color-mute\">\\n             Tucson, AZ\\n            </td>\\n            <td class=\"u-text-end\">\\n             7.09\\n            </td>\\n           </tr>\\n           <tr>\\n            <td class=\"c-table-clean__col-fit u-pr0 u-text-center\">\\n             35\\n            </td>\\n            <td>\\n             <a class=\"u-text-semi\" href=\"/swimmer/1507085\">\\n              Sophia Sunwoo\\n             </a>\\n            </td>\\n            <td class=\"u-text-center hidden-xs\">\\n             –\\n            </td>\\n            <td class=\"hidden-xs u-color-mute\">\\n             Bellevue, WA\\n            </td>\\n            <td class=\"u-text-end\">\\n             7.65\\n            </td>\\n           </tr>\\n           <tr>\\n            <td class=\"c-table-clean__col-fit u-pr0 u-text-center\">\\n             36\\n            </td>\\n            <td>\\n             <a class=\"u-text-semi\" href=\"/swimmer/1870572\">\\n              Zuri Ferguson\\n             </a>\\n            </td>\\n            <td class=\"u-text-center hidden-xs\">\\n             –\\n            </td>\\n            <td class=\"hidden-xs u-color-mute\">\\n             Attleboro, MA\\n            </td>\\n            <td class=\"u-text-end\">\\n             7.82\\n            </td>\\n           </tr>\\n           <tr>\\n            <td class=\"c-table-clean__col-fit u-pr0 u-text-center\">\\n             37\\n            </td>\\n            <td>\\n             <a class=\"u-text-semi\" href=\"/swimmer/2121595\">\\n              Julie Mishler\\n             </a>\\n            </td>\\n            <td class=\"u-text-center hidden-xs\">\\n             –\\n            </td>\\n            <td class=\"hidden-xs u-color-mute\">\\n             Milford, IN\\n            </td>\\n            <td class=\"u-text-end\">\\n             7.92\\n            </td>\\n           </tr>\\n           <tr>\\n            <td class=\"c-table-clean__col-fit u-pr0 u-text-center\">\\n             38\\n            </td>\\n            <td>\\n             <a class=\"u-text-semi\" href=\"/swimmer/2041373\">\\n              Kylie McMurray\\n             </a>\\n            </td>\\n            <td class=\"u-text-center hidden-xs\">\\n             –\\n            </td>\\n            <td class=\"hidden-xs u-color-mute\">\\n             Monroeville, NJ\\n            </td>\\n            <td class=\"u-text-end\">\\n             8.20\\n            </td>\\n           </tr>\\n           <tr>\\n            <td class=\"c-table-clean__col-fit u-pr0 u-text-center\">\\n             39\\n            </td>\\n            <td>\\n             <a class=\"u-text-semi\" href=\"/swimmer/1639916\">\\n              Taya Hutchison\\n             </a>\\n            </td>\\n            <td class=\"u-text-center hidden-xs\">\\n             –\\n            </td>\\n            <td class=\"hidden-xs u-color-mute\">\\n             Windsor, ON\\n            </td>\\n            <td class=\"u-text-end\">\\n             8.23\\n            </td>\\n           </tr>\\n           <tr>\\n            <td class=\"c-table-clean__col-fit u-pr0 u-text-center\">\\n             40\\n            </td>\\n            <td>\\n             <a class=\"u-text-semi\" href=\"/swimmer/1603535\">\\n              Amelia Mason\\n             </a>\\n            </td>\\n            <td class=\"u-text-center hidden-xs\">\\n             –\\n            </td>\\n            <td class=\"hidden-xs u-color-mute\">\\n             Boulder, CO\\n            </td>\\n            <td class=\"u-text-end\">\\n             8.26\\n            </td>\\n           </tr>\\n           <tr>\\n            <td class=\"c-table-clean__col-fit u-pr0 u-text-center\">\\n             41\\n            </td>\\n            <td>\\n             <a class=\"u-text-semi\" href=\"/swimmer/1494004\">\\n              Lexie Ward\\n             </a>\\n            </td>\\n            <td class=\"u-text-center hidden-xs\">\\n             –\\n            </td>\\n            <td class=\"hidden-xs u-color-mute\">\\n             Carmel, IN\\n            </td>\\n            <td class=\"u-text-end\">\\n             8.27\\n            </td>\\n           </tr>\\n           <tr>\\n            <td class=\"c-table-clean__col-fit u-pr0 u-text-center\">\\n             42\\n            </td>\\n            <td>\\n             <a class=\"u-text-semi\" href=\"/swimmer/1567171\">\\n              Montse Spielmann\\n             </a>\\n            </td>\\n            <td class=\"u-text-center hidden-xs\">\\n             –\\n            </td>\\n            <td class=\"hidden-xs u-color-mute\">\\n             San Antonio, TX\\n            </td>\\n            <td class=\"u-text-end\">\\n             8.51\\n            </td>\\n           </tr>\\n           <tr>\\n            <td class=\"c-table-clean__col-fit u-pr0 u-text-center\">\\n             43\\n            </td>\\n            <td>\\n             <a class=\"u-text-semi\" href=\"/swimmer/547590\">\\n              Sylvia Roy\\n             </a>\\n            </td>\\n            <td class=\"u-text-center hidden-xs\">\\n             –\\n            </td>\\n            <td class=\"hidden-xs u-color-mute\">\\n             Pittsburgh, PA\\n            </td>\\n            <td class=\"u-text-end\">\\n             8.61\\n            </td>\\n           </tr>\\n           <tr>\\n            <td class=\"c-table-clean__col-fit u-pr0 u-text-center\">\\n             43\\n            </td>\\n            <td>\\n             <a class=\"u-text-semi\" href=\"/swimmer/1481191\">\\n              Kaitlyn Sallows\\n             </a>\\n            </td>\\n            <td class=\"u-text-center hidden-xs\">\\n             –\\n            </td>\\n            <td class=\"hidden-xs u-color-mute\">\\n             Delaware, OH\\n            </td>\\n            <td class=\"u-text-end\">\\n             8.61\\n            </td>\\n           </tr>\\n           <tr>\\n            <td class=\"c-table-clean__col-fit u-pr0 u-text-center\">\\n             45\\n            </td>\\n            <td>\\n             <a class=\"u-text-semi\" href=\"/swimmer/529868\">\\n              Andrea Dworak\\n             </a>\\n            </td>\\n            <td class=\"u-text-center hidden-xs\">\\n             –\\n            </td>\\n            <td class=\"hidden-xs u-color-mute\">\\n             Bethesda, MD\\n            </td>\\n            <td class=\"u-text-end\">\\n             8.83\\n            </td>\\n           </tr>\\n           <tr>\\n            <td class=\"c-table-clean__col-fit u-pr0 u-text-center\">\\n             46\\n            </td>\\n            <td>\\n             <a class=\"u-text-semi\" href=\"/swimmer/1890237\">\\n              Becky Rentz\\n             </a>\\n            </td>\\n            <td class=\"u-text-center hidden-xs\">\\n             –\\n            </td>\\n            <td class=\"hidden-xs u-color-mute\">\\n             Aurora, IL\\n            </td>\\n            <td class=\"u-text-end\">\\n             8.92\\n            </td>\\n           </tr>\\n           <tr>\\n            <td class=\"c-table-clean__col-fit u-pr0 u-text-center\">\\n             47\\n            </td>\\n            <td>\\n             <a class=\"u-text-semi\" href=\"/swimmer/1928353\">\\n              Kathleen Turano\\n             </a>\\n            </td>\\n            <td class=\"u-text-center hidden-xs\">\\n             –\\n            </td>\\n            <td class=\"hidden-xs u-color-mute\">\\n             Wyckoff, NJ\\n            </td>\\n            <td class=\"u-text-end\">\\n             9.00\\n            </td>\\n           </tr>\\n           <tr>\\n            <td class=\"c-table-clean__col-fit u-pr0 u-text-center\">\\n             48\\n            </td>\\n            <td>\\n             <a class=\"u-text-semi\" href=\"/swimmer/1389169\">\\n              Lilly Gault Abdella\\n             </a>\\n            </td>\\n            <td class=\"u-text-center hidden-xs\">\\n             –\\n            </td>\\n            <td class=\"hidden-xs u-color-mute\">\\n             Greenville, SC\\n            </td>\\n            <td class=\"u-text-end\">\\n             9.01\\n            </td>\\n           </tr>\\n           <tr>\\n            <td class=\"c-table-clean__col-fit u-pr0 u-text-center\">\\n             49\\n            </td>\\n            <td>\\n             <a class=\"u-text-semi\" href=\"/swimmer/1124956\">\\n              Ella Mongenel\\n             </a>\\n            </td>\\n            <td class=\"u-text-center hidden-xs\">\\n             –\\n            </td>\\n            <td class=\"hidden-xs u-color-mute\">\\n             Cedar Park, TX\\n            </td>\\n            <td class=\"u-text-end\">\\n             9.09\\n            </td>\\n           </tr>\\n           <tr>\\n            <td class=\"c-table-clean__col-fit u-pr0 u-text-center\">\\n             50\\n            </td>\\n            <td>\\n             <a class=\"u-text-semi\" href=\"/swimmer/2247172\">\\n              Marin Clem\\n             </a>\\n            </td>\\n            <td class=\"u-text-center hidden-xs\">\\n             –\\n            </td>\\n            <td class=\"hidden-xs u-color-mute\">\\n             Southlake, TX\\n            </td>\\n            <td class=\"u-text-end\">\\n             9.15\\n            </td>\\n           </tr>\\n          </tbody>\\n         </table>\\n        </div>\\n       </div>\\n       <ul class=\"c-pagination\">\\n        <li class=\"c-pagination__item\">\\n         <button class=\"c-pagination__action c-pagination__action--active\" type=\"button\">\\n          1\\n         </button>\\n        </li>\\n        <li class=\"c-pagination__item\">\\n         <a class=\"c-pagination__action\" href=\"?page=2\">\\n          2\\n         </a>\\n        </li>\\n        <li class=\"c-pagination__item\">\\n         <a class=\"c-pagination__action\" href=\"?page=3\">\\n          3\\n         </a>\\n        </li>\\n        <li class=\"c-pagination__item\">\\n         <a class=\"c-pagination__action\" href=\"?page=4\">\\n          4\\n         </a>\\n        </li>\\n        <li class=\"c-pagination__item\">\\n         <a class=\"c-pagination__action\" href=\"?page=5\">\\n          5\\n         </a>\\n        </li>\\n        <li class=\"c-pagination__item\">\\n         <a class=\"c-pagination__action\" href=\"?page=6\">\\n          6\\n         </a>\\n        </li>\\n        <li class=\"c-pagination__item\">\\n         <a class=\"c-pagination__action\" href=\"?page=7\">\\n          7\\n         </a>\\n        </li>\\n        <li class=\"c-pagination__item\">\\n         <a class=\"c-pagination__action\" href=\"?page=8\">\\n          8\\n         </a>\\n        </li>\\n        <li class=\"c-pagination__item\">\\n         <a class=\"c-pagination__action\" href=\"?page=9\">\\n          9\\n         </a>\\n        </li>\\n        <li class=\"c-pagination__item\">\\n         <a class=\"c-pagination__action\" href=\"?page=10\">\\n          10\\n         </a>\\n        </li>\\n        <li class=\"c-pagination__item c-pagination__control\">\\n         <a class=\"c-pagination__action\" href=\"?page=2\">\\n          <span class=\"visible-xs-inline u-mr-\">\\n           Next\\n          </span>\\n          <i class=\"far fa-angle-right\">\\n          </i>\\n         </a>\\n        </li>\\n       </ul>\\n      </div>\\n      <div class=\"col-md-3 c-sticky-filters\">\\n       <section class=\"c-drawer@sm js-drawer\">\\n        <header class=\"c-drawer__header@sm\">\\n         <h4 class=\"c-drawer__title\">\\n          Filters\\n         </h4>\\n         <button class=\"btn btn-dark c-drawer__button js-drawer-close\" type=\"button\">\\n          <i class=\"far fa-chevron-left\">\\n          </i>\\n          <span class=\"u-is-hidden-visually\">\\n           Close\\n          </span>\\n         </button>\\n        </header>\\n        <div class=\"c-drawer__body@sm\">\\n         <div class=\"form-group\">\\n          <label for=\"state-filter\">\\n           Nationality\\n          </label>\\n          <select class=\"form-control selectredirect\" data-type=\"nationality\" id=\"nationality-filter\">\\n           <option value=\"\">\\n            All\\n           </option>\\n           <option value=\"1\">\\n            United States\\n           </option>\\n           <option value=\"2\">\\n            International\\n           </option>\\n          </select>\\n         </div>\\n         <div class=\"form-group\" id=\"states\">\\n          <label for=\"state-filter\">\\n           State\\n          </label>\\n          <select class=\"form-control selectredirect\" data-type=\"state\" id=\"state-filter\">\\n           <option value=\"\">\\n            All States\\n           </option>\\n           <option value=\"AL\">\\n            Alabama\\n           </option>\\n           <option value=\"AK\">\\n            Alaska\\n           </option>\\n           <option value=\"AZ\">\\n            Arizona\\n           </option>\\n           <option value=\"AR\">\\n            Arkansas\\n           </option>\\n           <option value=\"CA\">\\n            California\\n           </option>\\n           <option value=\"CO\">\\n            Colorado\\n           </option>\\n           <option value=\"CT\">\\n            Connecticut\\n           </option>\\n           <option value=\"DE\">\\n            Delaware\\n           </option>\\n           <option value=\"DC\">\\n            D.C.\\n           </option>\\n           <option value=\"FL\">\\n            Florida\\n           </option>\\n           <option value=\"GA\">\\n            Georgia\\n           </option>\\n           <option value=\"HI\">\\n            Hawaii\\n           </option>\\n           <option value=\"ID\">\\n            Idaho\\n           </option>\\n           <option value=\"IL\">\\n            Illinois\\n           </option>\\n           <option value=\"IN\">\\n            Indiana\\n           </option>\\n           <option value=\"IA\">\\n            Iowa\\n           </option>\\n           <option value=\"KS\">\\n            Kansas\\n           </option>\\n           <option value=\"KY\">\\n            Kentucky\\n           </option>\\n           <option value=\"LA\">\\n            Louisiana\\n           </option>\\n           <option value=\"ME\">\\n            Maine\\n           </option>\\n           <option value=\"MD\">\\n            Maryland\\n           </option>\\n           <option value=\"MA\">\\n            Massachusetts\\n           </option>\\n           <option value=\"MI\">\\n            Michigan\\n           </option>\\n           <option value=\"MN\">\\n            Minnesota\\n           </option>\\n           <option value=\"MS\">\\n            Mississippi\\n           </option>\\n           <option value=\"MO\">\\n            Missouri\\n           </option>\\n           <option value=\"MT\">\\n            Montana\\n           </option>\\n           <option value=\"NE\">\\n            Nebraska\\n           </option>\\n           <option value=\"NV\">\\n            Nevada\\n           </option>\\n           <option value=\"NH\">\\n            New Hampshire\\n           </option>\\n           <option value=\"NJ\">\\n            New Jersey\\n           </option>\\n           <option value=\"NM\">\\n            New Mexico\\n           </option>\\n           <option value=\"NY\">\\n            New York\\n           </option>\\n           <option value=\"NC\">\\n            North Carolina\\n           </option>\\n           <option value=\"ND\">\\n            North Dakota\\n           </option>\\n           <option value=\"OH\">\\n            Ohio\\n           </option>\\n           <option value=\"OK\">\\n            Oklahoma\\n           </option>\\n           <option value=\"OR\">\\n            Oregon\\n           </option>\\n           <option value=\"PA\">\\n            Pennsylvania\\n           </option>\\n           <option value=\"RI\">\\n            Rhode Island\\n           </option>\\n           <option value=\"SC\">\\n            South Carolina\\n           </option>\\n           <option value=\"SD\">\\n            South Dakota\\n           </option>\\n           <option value=\"TN\">\\n            Tennessee\\n           </option>\\n           <option value=\"TX\">\\n            Texas\\n           </option>\\n           <option value=\"UT\">\\n            Utah\\n           </option>\\n           <option value=\"VT\">\\n            Vermont\\n           </option>\\n           <option value=\"VA\">\\n            Virginia\\n           </option>\\n           <option value=\"WA\">\\n            Washington\\n           </option>\\n           <option value=\"WV\">\\n            West Virginia\\n           </option>\\n           <option value=\"WI\">\\n            Wisconsin\\n           </option>\\n           <option value=\"WY\">\\n            Wyoming\\n           </option>\\n           <option value=\"PR\">\\n            Puerto Rico\\n           </option>\\n          </select>\\n         </div>\\n         <form method=\"get\">\\n          <label for=\"name-filter\">\\n           Name\\n          </label>\\n          <div class=\"input-group\">\\n           <input class=\"form-control\" data-type=\"name\" id=\"name-filter\" name=\"name\" placeholder=\"Find by name\" type=\"text\" value=\"\"/>\\n           <span class=\"input-group-btn\">\\n            <button class=\"btn btn-default\" type=\"submit\">\\n             <span class=\"u-is-hidden-visually\">\\n              Find by name\\n             </span>\\n             <i class=\"far fa-search u-color-mute\">\\n             </i>\\n            </button>\\n           </span>\\n          </div>\\n         </form>\\n        </div>\\n       </section>\\n       <div class=\"hidden-xs hidden-sm u-mv+\">\\n        <h4 class=\"c-body2 u-mb-\">\\n         FAQ\\n        </h4>\\n        <h5 class=\"c-body1\">\\n         <a href=\"/recruiting/standards/\">\\n          How is my power index calculated?\\n         </a>\\n        </h5>\\n       </div>\\n      </div>\\n     </div>\\n    </div>\\n    <button class=\"btn btn-primary btn-fab u-is-hidden@md js-drawer-open\" type=\"button\">\\n     Filters\\n    </button>\\n    <div class=\"c-drawer__backdrop js-drawer-backdrop\">\\n    </div>\\n   </div>\\n  </div>\\n  <script src=\"/media/js/jquery-3.6.0.min.1673429434.js\">\\n  </script>\\n  <script src=\"/media/js/bootstrap.min.1673429434.js\">\\n  </script>\\n  <script src=\"/media/js/js.cookie.min.1673429434.js\" type=\"text/javascript\">\\n  </script>\\n  <script crossorigin=\"anonymous\" integrity=\"sha384-1+NVxJuzrJqJNxlOk23abXGMOTFCVL2ijvbPWADLNAye3nGSVKDqxT6vQqZVWRMd\" src=\"https://browser.sentry-cdn.com/7.38.0/bundle.tracing.min.js\">\\n  </script>\\n  <script>\\n   const WEBPACK_PATH =\\n      \"https://www.swimcloud.com/media/webpack/\";\\n\\n    Sentry.init({\\n      dsn: \"https://d5e74d4028ae4a06a155bdeee21e45cc@o375140.ingest.sentry.io/5199088\",\\n      release: \"fcbcb3218e85531541d08829a3de6a821b521266\",\\n      environment: \"production\",\\n      beforeSend(event) {\\n        if (event.exception)\\n          try {\\n            const isWebpack = event.exception.values[0].stacktrace.frames.some(\\n              (frame) => frame.filename.includes(WEBPACK_PATH)\\n            );\\n            return isWebpack ? event : null;\\n          } catch (error) {\\n            return null;\\n          }\\n        return event;\\n      },\\n      integrations: [new Sentry.BrowserTracing()],\\n      tracesSampleRate: 0.002,\\n    });\\n\\n    Sentry.configureScope((scope) => {\\n      const user = {\\n        id: Number(\"\") || undefined,\\n        email: \"\" || undefined,\\n        username: \"\" || undefined\\n      };\\n      if (user.id) scope.setUser(user);\\n    });\\n  </script>\\n  <script>\\n   jQuery(function($) {\\n    $(document).ready(function() {\\n      var targetElement = $(\\'.js-bs-tooltip\\');\\n      if (targetElement.length) {\\n        targetElement.tooltip({\\n          placement: \\'auto bottom\\',\\n          trigger: \\'hover\\'\\n        });\\n      }\\n    });\\n  });\\n  </script>\\n  <script src=\"/media/js/swimcloud/drawer.1673429434.js\">\\n  </script>\\n  <script type=\"text/javascript\">\\n   //set csrf cookie for jquery ajax post calls\\n      window.onload = function (e) {\\n        function getCookie(name) {\\n            var cookieValue = null;\\n            if (document.cookie && document.cookie !== \\'\\') {\\n                var cookies = document.cookie.split(\\';\\');\\n                for (var i = 0; i < cookies.length; i++) {\\n                    var cookie = jQuery.trim(cookies[i]);\\n                    // Does this cookie string begin with the name we want?\\n                    if (cookie.substring(0, name.length + 1) === (name + \\'=\\')) {\\n                        cookieValue = decodeURIComponent(cookie.substring(name.length + 1));\\n                        break;\\n                    }\\n                }\\n            }\\n            return cookieValue;\\n        }\\n        var csrftoken = getCookie(\\'csrftoken\\');\\n        //set up cookie\\n        function csrfSafeMethod(method) {\\n            // these HTTP methods do not require CSRF protection\\n            return (/^(GET|HEAD|OPTIONS|TRACE)$/.test(method));\\n        }\\n        $.ajaxSetup({\\n            beforeSend: function(xhr, settings) {\\n                if (!csrfSafeMethod(settings.type) && !this.crossDomain) {\\n                    xhr.setRequestHeader(\"X-CSRFToken\", csrftoken);\\n                }\\n            }\\n        });\\n      };\\n  </script>\\n  <script type=\"text/javascript\">\\n   // resolving: https://github.com/select2/select2/issues/3354\\n      $(document).ready(function() {\\n        $(\\':input\\').on(\\'select2:unselect\\', function(e) {\\n          var $el = $(this);\\n\\n          if ($el.data(\\'select2\\').selection.$search) {\\n            setTimeout(function () {\\n              // console.log($el.data(\\'select2\\').selection.prototype);\\n              $el.data(\\'select2\\').selection.$search.val(\"\");\\n            }, 0);\\n          };\\n        });\\n      });\\n  </script>\\n  <script src=\"/media/js/yui3/build/yui/yui-min.js\">\\n  </script>\\n  <script>\\n   YUI().use(\"node\", \"event\", function (Y) {\\n            var selectredirect = Y.all(\\'.selectredirect\\');\\n\\n            let nationality = Y.one(\\'#nationality-filter\\').get(\\'value\\');\\n            let state = Y.one(\\'#state-filter\\').get(\\'value\\');\\n\\n            if(!state && nationality != \"1\"){\\n              Y.one(\\'#states\\').addClass(\"hidden\");\\n            }\\n            if(state && nationality != \"2\"){\\n              Y.one(\\'#nationality-filter\\').set(\\'value\\', 1);\\n            }\\n\\n            if(selectredirect) {\\n                selectredirect.each(function(node) {\\n                    node.on(\\'change\\', function() {\\n                      window.location = generateUrl(selectredirect, node.getData(\\'type\\'));\\n                    });\\n                });\\n            }\\n\\n            function generateUrl(selectredirect, type) {\\n                var select_values = [];\\n                let nationality = Y.one(\\'#nationality-filter\\').get(\\'value\\');\\n\\n                if(nationality != \"1\"){\\n                  //get states and set the selection to \"\" if the selected nationality isn\\'t United States (1)\\n                  Y.one(\\'#states\\').addClass(\"hidden\");\\n                  Y.one(\\'#state-filter\\').set(\\'value\\', 0);\\n                }\\n\\n                if (type == \\'division\\') {\\n                  Y.one(\\'#conference-filter\\').set(\\'value\\', \\'\\');\\n                }\\n\\n                if (type == \\'conference\\') {\\n                  Y.one(\\'#division-filter\\').set(\\'value\\', \\'\\');\\n                }\\n\\n                selectredirect.each(function(select) {\\n                    if (select.get(\\'value\\')) {\\n                        select_values.push(select.get(\\'value\\'));\\n                    }\\n                });\\n                return \\'/recruiting/rankings/\\' + select_values.join(\\'/\\');\\n            }\\n        });\\n\\n        function scrollToCenter(element) {\\n          var target = $(element);\\n\\n          if (target.length) {\\n            var targetOffset = target.offset().top\\n            var targetHeight = target.height();\\n            var windowHeight = $(window).height();\\n            var computedOffset = targetOffset - ((windowHeight/2) - (targetHeight/2));\\n            $(\\'html, body\\').animate({scrollTop: computedOffset}, \\'0\\');\\n          }\\n          return false;\\n        };\\n\\n        $(window).on(\\'load\\', function() {\\n          scrollToCenter(\\'.js-active-row\\');\\n        });\\n  </script>\\n  <script>\\n   $(document).ready(function() {\\n    $(\\'.js-drawer-open, .js-drawer-backdrop, .js-drawer-close\\').on(\\'click touchstart\\', function (e) {\\n      $(\\'.js-html\\').toggleClass(\\'u-overflow-hidden\\');\\n      $(\\'.js-drawer, .js-drawer-backdrop\\').toggleClass(\\'is-visible\\');\\n      e.preventDefault();\\n    });\\n  });\\n  </script>\\n  <script type=\"text/javascript\">\\n   /*\\n           * Hacky fix for a bug in select2 with jQuery 3.6.0\\'s new nested-focus \"protection\"\\n           * see: https://github.com/select2/select2/issues/5993\\n           * see: https://github.com/jquery/jquery/issues/4382\\n           *\\n           * TODO: Recheck with the select2 GH issue and remove once this is fixed on their side\\n           */\\n          $(document).on(\\'select2:open\\', () => {\\n            setTimeout(() => document.querySelector(\\'.select2-search__field\\').focus(), 100);\\n          });\\n  </script>\\n  <script type=\"text/javascript\">\\n   var csrf_token = \"5DsFaNbSfW5uXW62zq92zwcLVIX5HOpvgy3S3ldvN99bv41M8WpZwW7NvjR7HHDA\";\\n  var tz_set_endpoint = \\'/tz_detect/\\';\\n  var csrf_header_name = \\'x-csrftoken\\';\\n  (function() {\\n    var tz_script = document.createElement(\\'script\\');\\n    tz_script.src = \\'/media/static/tz_detect/js/tzdetect.min.cbab13600a82.js\\';\\n    tz_script.setAttribute(\\'async\\', \\'true\\');\\n    var s = document.getElementsByTagName(\\'script\\')[0]; s.parentNode.insertBefore(tz_script, s);\\n  })();\\n  </script>\\n </body>\\n</html>\\n'"
      ]
     },
     "execution_count": 7,
     "metadata": {},
     "output_type": "execute_result"
    }
   ],
   "source": [
    "page_content.prettify()"
   ]
  },
  {
   "cell_type": "code",
   "execution_count": 8,
   "id": "40a4eef4",
   "metadata": {},
   "outputs": [],
   "source": [
    "all_names=page_content.findAll('a',attrs={'class':'u-text-semi'})"
   ]
  },
  {
   "cell_type": "code",
   "execution_count": 9,
   "id": "43fbe8c8",
   "metadata": {},
   "outputs": [
    {
     "data": {
      "text/plain": [
       "'/swimmer/1866987'"
      ]
     },
     "execution_count": 9,
     "metadata": {},
     "output_type": "execute_result"
    }
   ],
   "source": [
    "all_names[0]['href']"
   ]
  },
  {
   "cell_type": "code",
   "execution_count": 10,
   "id": "cc84749f",
   "metadata": {},
   "outputs": [],
   "source": [
    "individual_profile='https://www.swimcloud.com'+all_names[0]['href']"
   ]
  },
  {
   "cell_type": "code",
   "execution_count": 11,
   "id": "4cbbef4a",
   "metadata": {},
   "outputs": [
    {
     "data": {
      "text/plain": [
       "'https://www.swimcloud.com/swimmer/1866987'"
      ]
     },
     "execution_count": 11,
     "metadata": {},
     "output_type": "execute_result"
    }
   ],
   "source": [
    "individual_profile"
   ]
  },
  {
   "cell_type": "code",
   "execution_count": 12,
   "id": "535b2d6f",
   "metadata": {},
   "outputs": [],
   "source": [
    "individual_profile_content=requests.get(individual_profile).content"
   ]
  },
  {
   "cell_type": "code",
   "execution_count": 13,
   "id": "b6b47d32",
   "metadata": {},
   "outputs": [],
   "source": [
    "data={}"
   ]
  },
  {
   "cell_type": "code",
   "execution_count": 14,
   "id": "dd0d07d6",
   "metadata": {},
   "outputs": [],
   "source": [
    "individual_profile_data=BeautifulSoup(individual_profile_content,'html.parser')"
   ]
  },
  {
   "cell_type": "code",
   "execution_count": 15,
   "id": "2fc5e452",
   "metadata": {},
   "outputs": [],
   "source": [
    "individual_profile_data_year=individual_profile_data.find('p',attrs={'class':'c-list-bar__description'}).text"
   ]
  },
  {
   "cell_type": "code",
   "execution_count": 16,
   "id": "aa9dfa55",
   "metadata": {},
   "outputs": [],
   "source": [
    "data['year']=individual_profile_data_year"
   ]
  },
  {
   "cell_type": "code",
   "execution_count": 17,
   "id": "676ecdcb",
   "metadata": {},
   "outputs": [],
   "source": [
    "individual_profile_data_name=individual_profile_data.find('span',attrs={'class':'u-mr-'}).text"
   ]
  },
  {
   "cell_type": "code",
   "execution_count": 18,
   "id": "fe8b6b64",
   "metadata": {
    "scrolled": true
   },
   "outputs": [],
   "source": [
    "name=individual_profile_data_name.split(' ')\n",
    "data['first name']=name[0]\n",
    "data['last name']=''.join(name[1:])"
   ]
  },
  {
   "cell_type": "code",
   "execution_count": 19,
   "id": "0982d179",
   "metadata": {},
   "outputs": [
    {
     "data": {
      "text/plain": [
       "['Alex', 'Shackell']"
      ]
     },
     "execution_count": 19,
     "metadata": {},
     "output_type": "execute_result"
    }
   ],
   "source": [
    "name"
   ]
  },
  {
   "cell_type": "code",
   "execution_count": 20,
   "id": "d820326b",
   "metadata": {},
   "outputs": [],
   "source": [
    "individual_profile_data_country=individual_profile_data.find('h5',attrs={'class':'c-link-boxes-item__primary-text'}).text"
   ]
  },
  {
   "cell_type": "code",
   "execution_count": 21,
   "id": "6c98ffc3",
   "metadata": {},
   "outputs": [],
   "source": [
    "data['country']=individual_profile_data_country.replace('  ','').replace('\\n','')"
   ]
  },
  {
   "cell_type": "code",
   "execution_count": 22,
   "id": "23963d35",
   "metadata": {},
   "outputs": [],
   "source": [
    "individual_profile_data_details=individual_profile_data.select('ul[class=\"o-list-inline o-list-inline--dotted\"] li')"
   ]
  },
  {
   "cell_type": "code",
   "execution_count": 23,
   "id": "7beccfd3",
   "metadata": {},
   "outputs": [
    {
     "data": {
      "text/plain": [
       "[<li>Carmel, IN</li>,\n",
       " <li>\n",
       " <a href=\"/team/8096\">Carmel Swim Club</a>\n",
       " </li>,\n",
       " <li>\n",
       " <ul class=\"o-list-inline\">\n",
       " <li>\n",
       " <a class=\"btn-icon-plain\" href=\"https://instagram.com/Alexandrathebeast\" target=\"_blank\" title=\"Instagram\">\n",
       " <i class=\"fab fa-instagram\"></i>\n",
       " <span class=\"u-is-hidden-visually\">\n",
       "                               Alex Shackell on Instagram\n",
       "                             </span>\n",
       " </a>\n",
       " </li>\n",
       " </ul>\n",
       " </li>,\n",
       " <li>\n",
       " <a class=\"btn-icon-plain\" href=\"https://instagram.com/Alexandrathebeast\" target=\"_blank\" title=\"Instagram\">\n",
       " <i class=\"fab fa-instagram\"></i>\n",
       " <span class=\"u-is-hidden-visually\">\n",
       "                               Alex Shackell on Instagram\n",
       "                             </span>\n",
       " </a>\n",
       " </li>,\n",
       " <li>Carmel, IN</li>,\n",
       " <li>Carmel, IN</li>,\n",
       " <li>Colorado Springs, CO</li>,\n",
       " <li>Ellisville, MO</li>,\n",
       " <li>Nashville, TN</li>,\n",
       " <li>St. Louis, MO</li>,\n",
       " <li>Nashville, TN</li>]"
      ]
     },
     "execution_count": 23,
     "metadata": {},
     "output_type": "execute_result"
    }
   ],
   "source": [
    "individual_profile_data_details"
   ]
  },
  {
   "cell_type": "code",
   "execution_count": 24,
   "id": "6f4e37a4",
   "metadata": {},
   "outputs": [],
   "source": [
    "individual_profile_data_location=individual_profile_data_details[0].text"
   ]
  },
  {
   "cell_type": "code",
   "execution_count": 25,
   "id": "37cac818",
   "metadata": {},
   "outputs": [],
   "source": [
    "location=individual_profile_data_location.split(',')"
   ]
  },
  {
   "cell_type": "code",
   "execution_count": 26,
   "id": "10497c72",
   "metadata": {},
   "outputs": [],
   "source": [
    "data['city']=location[0]\n",
    "data['state']=location[1]"
   ]
  },
  {
   "cell_type": "code",
   "execution_count": 27,
   "id": "2a0735b6",
   "metadata": {},
   "outputs": [],
   "source": [
    "individual_profile_data_club=individual_profile_data_details[1].text"
   ]
  },
  {
   "cell_type": "code",
   "execution_count": 28,
   "id": "c8b83690",
   "metadata": {},
   "outputs": [],
   "source": [
    "data['club']=individual_profile_data_club.replace('\\n','')"
   ]
  },
  {
   "cell_type": "code",
   "execution_count": 29,
   "id": "2441a914",
   "metadata": {},
   "outputs": [],
   "source": [
    "individual_profile_data_instagram=individual_profile_data_details[3].find('a')['href']"
   ]
  },
  {
   "cell_type": "code",
   "execution_count": 30,
   "id": "434a29d5",
   "metadata": {},
   "outputs": [],
   "source": [
    "data['instagram']=individual_profile_data_instagram"
   ]
  },
  {
   "cell_type": "code",
   "execution_count": 31,
   "id": "ab768158",
   "metadata": {},
   "outputs": [],
   "source": [
    "individual_powerindex=individual_profile +'/powerindex'"
   ]
  },
  {
   "cell_type": "code",
   "execution_count": 32,
   "id": "73aa3c7a",
   "metadata": {},
   "outputs": [
    {
     "data": {
      "text/plain": [
       "'https://www.swimcloud.com/swimmer/1866987/powerindex'"
      ]
     },
     "execution_count": 32,
     "metadata": {},
     "output_type": "execute_result"
    }
   ],
   "source": [
    "individual_powerindex"
   ]
  },
  {
   "cell_type": "code",
   "execution_count": 33,
   "id": "90c57402",
   "metadata": {},
   "outputs": [],
   "source": [
    "individual_powerindex=requests.get(individual_powerindex).content"
   ]
  },
  {
   "cell_type": "code",
   "execution_count": 34,
   "id": "7414e300",
   "metadata": {},
   "outputs": [],
   "source": [
    "individual_powerindex_details=BeautifulSoup(individual_powerindex,'html.parser')"
   ]
  },
  {
   "cell_type": "code",
   "execution_count": 35,
   "id": "a5cedc70",
   "metadata": {},
   "outputs": [],
   "source": [
    "event_tds=individual_powerindex_details.select('tr td[class=\"u-text-truncate u-text-semi\"]')[:3]"
   ]
  },
  {
   "cell_type": "code",
   "execution_count": 36,
   "id": "78196264",
   "metadata": {},
   "outputs": [],
   "source": [
    "time_tds=individual_powerindex_details.select('tr td[class=\"c-table-clean__time u-text-semi\"]')[:3]"
   ]
  },
  {
   "cell_type": "code",
   "execution_count": 37,
   "id": "4d834ed4",
   "metadata": {},
   "outputs": [
    {
     "data": {
      "text/plain": [
       "[<td class=\"c-table-clean__time u-text-semi\">1:54.54</td>,\n",
       " <td class=\"c-table-clean__time u-text-semi\">1:53.52</td>,\n",
       " <td class=\"c-table-clean__time u-text-semi\">21.73</td>]"
      ]
     },
     "execution_count": 37,
     "metadata": {},
     "output_type": "execute_result"
    }
   ],
   "source": [
    "time_tds"
   ]
  },
  {
   "cell_type": "code",
   "execution_count": 38,
   "id": "15b0de2b",
   "metadata": {},
   "outputs": [],
   "source": [
    "event_data={}"
   ]
  },
  {
   "cell_type": "code",
   "execution_count": 39,
   "id": "2f3dfc60",
   "metadata": {},
   "outputs": [],
   "source": [
    "# event_data['event1']=[event_tds[0].text,time_tds[0].text]\n",
    "# event_data['event2']=[event_tds[1].text,time_tds[1].text]\n",
    "# event_data['event3']=[event_tds[2].text,time_tds[2].text]\n",
    "# #"
   ]
  },
  {
   "cell_type": "code",
   "execution_count": 40,
   "id": "c9440147",
   "metadata": {},
   "outputs": [],
   "source": [
    "data['event-1']=event_tds[0].text\n",
    "data['event-1 time']=time_tds[0].text\n",
    "data['event-2']=event_tds[1].text\n",
    "data['event-2 time']=time_tds[1].text\n",
    "data['event-3']=event_tds[2].text\n",
    "data['event-3 time']=time_tds[2].text"
   ]
  },
  {
   "cell_type": "code",
   "execution_count": 41,
   "id": "2440f811",
   "metadata": {},
   "outputs": [
    {
     "data": {
      "text/plain": [
       "{}"
      ]
     },
     "execution_count": 41,
     "metadata": {},
     "output_type": "execute_result"
    }
   ],
   "source": [
    "event_data"
   ]
  },
  {
   "cell_type": "code",
   "execution_count": 42,
   "id": "c6908d5e",
   "metadata": {},
   "outputs": [],
   "source": [
    "# data['event']=[event_data]"
   ]
  },
  {
   "cell_type": "code",
   "execution_count": 43,
   "id": "20af3d48",
   "metadata": {},
   "outputs": [
    {
     "data": {
      "text/plain": [
       "{'year': '2025',\n",
       " 'first name': 'Alex',\n",
       " 'last name': 'Shackell',\n",
       " 'country': 'United States',\n",
       " 'city': 'Carmel',\n",
       " 'state': ' IN',\n",
       " 'club': 'Carmel Swim Club',\n",
       " 'instagram': 'https://instagram.com/Alexandrathebeast',\n",
       " 'event-1': '200 Y IM',\n",
       " 'event-1 time': '1:54.54',\n",
       " 'event-2': '200 Y Fly',\n",
       " 'event-2 time': '1:53.52',\n",
       " 'event-3': '50 Y Free',\n",
       " 'event-3 time': '21.73'}"
      ]
     },
     "execution_count": 43,
     "metadata": {},
     "output_type": "execute_result"
    }
   ],
   "source": [
    "data"
   ]
  },
  {
   "cell_type": "code",
   "execution_count": 44,
   "id": "ccc4924c",
   "metadata": {},
   "outputs": [],
   "source": [
    "import pandas as pd"
   ]
  },
  {
   "cell_type": "code",
   "execution_count": 45,
   "id": "d1ee3f3f",
   "metadata": {},
   "outputs": [],
   "source": [
    "df = pd.DataFrame.from_dict([data])"
   ]
  },
  {
   "cell_type": "code",
   "execution_count": 46,
   "id": "90a35516",
   "metadata": {},
   "outputs": [
    {
     "data": {
      "text/html": [
       "<div>\n",
       "<style scoped>\n",
       "    .dataframe tbody tr th:only-of-type {\n",
       "        vertical-align: middle;\n",
       "    }\n",
       "\n",
       "    .dataframe tbody tr th {\n",
       "        vertical-align: top;\n",
       "    }\n",
       "\n",
       "    .dataframe thead th {\n",
       "        text-align: right;\n",
       "    }\n",
       "</style>\n",
       "<table border=\"1\" class=\"dataframe\">\n",
       "  <thead>\n",
       "    <tr style=\"text-align: right;\">\n",
       "      <th></th>\n",
       "      <th>year</th>\n",
       "      <th>first name</th>\n",
       "      <th>last name</th>\n",
       "      <th>country</th>\n",
       "      <th>city</th>\n",
       "      <th>state</th>\n",
       "      <th>club</th>\n",
       "      <th>instagram</th>\n",
       "      <th>event-1</th>\n",
       "      <th>event-1 time</th>\n",
       "      <th>event-2</th>\n",
       "      <th>event-2 time</th>\n",
       "      <th>event-3</th>\n",
       "      <th>event-3 time</th>\n",
       "    </tr>\n",
       "  </thead>\n",
       "  <tbody>\n",
       "    <tr>\n",
       "      <th>0</th>\n",
       "      <td>2025</td>\n",
       "      <td>Alex</td>\n",
       "      <td>Shackell</td>\n",
       "      <td>United States</td>\n",
       "      <td>Carmel</td>\n",
       "      <td>IN</td>\n",
       "      <td>Carmel Swim Club</td>\n",
       "      <td>https://instagram.com/Alexandrathebeast</td>\n",
       "      <td>200 Y IM</td>\n",
       "      <td>1:54.54</td>\n",
       "      <td>200 Y Fly</td>\n",
       "      <td>1:53.52</td>\n",
       "      <td>50 Y Free</td>\n",
       "      <td>21.73</td>\n",
       "    </tr>\n",
       "  </tbody>\n",
       "</table>\n",
       "</div>"
      ],
      "text/plain": [
       "   year first name last name        country    city state              club  \\\n",
       "0  2025       Alex  Shackell  United States  Carmel    IN  Carmel Swim Club   \n",
       "\n",
       "                                 instagram   event-1 event-1 time    event-2  \\\n",
       "0  https://instagram.com/Alexandrathebeast  200 Y IM      1:54.54  200 Y Fly   \n",
       "\n",
       "  event-2 time    event-3 event-3 time  \n",
       "0      1:53.52  50 Y Free        21.73  "
      ]
     },
     "execution_count": 46,
     "metadata": {},
     "output_type": "execute_result"
    }
   ],
   "source": [
    "df"
   ]
  },
  {
   "cell_type": "code",
   "execution_count": null,
   "id": "bc42cb33",
   "metadata": {},
   "outputs": [],
   "source": []
  },
  {
   "cell_type": "code",
   "execution_count": null,
   "id": "0b7dbe7c",
   "metadata": {},
   "outputs": [],
   "source": []
  },
  {
   "cell_type": "code",
   "execution_count": null,
   "id": "c1a54201",
   "metadata": {},
   "outputs": [],
   "source": []
  },
  {
   "cell_type": "code",
   "execution_count": 1,
   "id": "c487860c",
   "metadata": {},
   "outputs": [],
   "source": [
    "import multiprocessing as mp\n",
    "\n"
   ]
  },
  {
   "cell_type": "code",
   "execution_count": null,
   "id": "dd179c7f",
   "metadata": {},
   "outputs": [],
   "source": []
  }
 ],
 "metadata": {
  "kernelspec": {
   "display_name": "Python 3 (ipykernel)",
   "language": "python",
   "name": "python3"
  },
  "language_info": {
   "codemirror_mode": {
    "name": "ipython",
    "version": 3
   },
   "file_extension": ".py",
   "mimetype": "text/x-python",
   "name": "python",
   "nbconvert_exporter": "python",
   "pygments_lexer": "ipython3",
   "version": "3.9.13"
  }
 },
 "nbformat": 4,
 "nbformat_minor": 5
}
