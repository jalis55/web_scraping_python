{
 "cells": [
  {
   "cell_type": "code",
   "execution_count": 41,
   "id": "29cdeb20",
   "metadata": {},
   "outputs": [],
   "source": [
    "import requests\n",
    "from bs4 import BeautifulSoup\n",
    "import time\n",
    "\n"
   ]
  },
  {
   "cell_type": "code",
   "execution_count": 42,
   "id": "f458db75",
   "metadata": {},
   "outputs": [],
   "source": [
    "def scraper(year,gender,page):\n",
    "    data={}\n",
    "    url=f'https://www.swimcloud.com/recruiting/rankings/{year}/{gender}/?page={page}'\n",
    "    response=requests.get(url)\n",
    "    page_content=BeautifulSoup(response.content,'html.parser')\n",
    "    all_names=page_content.findAll('a',attrs={'class':'u-text-semi'})\n",
    "    individual_profile='https://www.swimcloud.com'+all_names[0]['href']\n",
    "    individual_profile_content=requests.get(individual_profile).content\n",
    "    individual_profile_data=BeautifulSoup(individual_profile_content,'html.parser')\n",
    "    individual_profile_data_year=individual_profile_data.find('p',attrs={'class':'c-list-bar__description'}).text\n",
    "    data['year']=individual_profile_data_year\n",
    "    individual_profile_data_name=individual_profile_data.find('span',attrs={'class':'u-mr-'}).text\n",
    "    name=individual_profile_data_name.split(' ')\n",
    "    data['first name']=name[0]\n",
    "    data['last name']=''.join(name[1:])\n",
    "    individual_profile_data_country=individual_profile_data.find('h5',attrs={'class':'c-link-boxes-item__primary-text'}).text\n",
    "    data['country']=individual_profile_data_country.replace('  ','').replace('\\n','')\n",
    "    individual_profile_data_details=individual_profile_data.select('ul[class=\"o-list-inline o-list-inline--dotted\"] li')\n",
    "    individual_profile_data_location=individual_profile_data_details[0].text\n",
    "    location=individual_profile_data_location.split(',')\n",
    "    data['city']=location[0]\n",
    "    data['state']=location[1]\n",
    "    individual_profile_data_club=individual_profile_data_details[1].text\n",
    "    data['club']=individual_profile_data_club.replace('\\n','')\n",
    "    try:\n",
    "        individual_profile_data_instagram=individual_profile_data_details[3].find('a')['href']\n",
    "        data['instagram']=individual_profile_data_instagram\n",
    "    except:\n",
    "        data['instagram']=None\n",
    "    individual_powerindex=individual_profile +'/powerindex'\n",
    "    individual_powerindex=requests.get(individual_powerindex).content\n",
    "    individual_powerindex_details=BeautifulSoup(individual_powerindex,'html.parser')\n",
    "    event_tds=individual_powerindex_details.select('tr td[class=\"u-text-truncate u-text-semi\"]')[:3]\n",
    "    time_tds=individual_powerindex_details.select('tr td[class=\"c-table-clean__time u-text-semi\"]')[:3]\n",
    "    data['event-1']=event_tds[0].text\n",
    "    data['event-1 time']=time_tds[0].text\n",
    "    data['event-2']=event_tds[1].text\n",
    "    data['event-2 time']=time_tds[1].text\n",
    "    data['event-3']=event_tds[2].text\n",
    "    data['event-3 time']=time_tds[2].text\n",
    "    \n",
    "    \n",
    "    return data\n"
   ]
  },
  {
   "cell_type": "code",
   "execution_count": 30,
   "id": "56d0b736",
   "metadata": {},
   "outputs": [],
   "source": [
    "\n",
    "    \n",
    "    "
   ]
  },
  {
   "cell_type": "code",
   "execution_count": null,
   "id": "ed33567f",
   "metadata": {},
   "outputs": [],
   "source": []
  },
  {
   "cell_type": "code",
   "execution_count": null,
   "id": "65b0da90",
   "metadata": {},
   "outputs": [],
   "source": []
  },
  {
   "cell_type": "code",
   "execution_count": null,
   "id": "5ef87d8f",
   "metadata": {},
   "outputs": [],
   "source": []
  },
  {
   "cell_type": "code",
   "execution_count": 45,
   "id": "609400d8",
   "metadata": {},
   "outputs": [],
   "source": [
    "def main():\n",
    "    Year=input(\"Enter year:\")\n",
    "    gender=input(\"Enter gender..M/W:\")\n",
    "    start=time.time()\n",
    "    total_dataset.append(scraper(year,gender,1))\n",
    "    total_dataset.append(scraper(year,gender,2))\n",
    "    total_dataset.append(scraper(year,gender,3))\n",
    "    end=time.time()\n",
    "    \n",
    "    print(total_dataset)\n",
    "    print(end-start)\n",
    "    "
   ]
  },
  {
   "cell_type": "code",
   "execution_count": 46,
   "id": "f941480e",
   "metadata": {},
   "outputs": [
    {
     "name": "stdout",
     "output_type": "stream",
     "text": [
      "Enter year:2025\n",
      "Enter gender..M/W:M\n",
      "[{'year': '2025', 'first name': 'Thomas', 'last name': 'Heilman', 'country': 'United States', 'city': 'Crozet', 'state': ' VA', 'club': 'Cavalier Aquatics/Piedmont Family YMCA', 'instagram': 'https://instagram.com/thomas_heilman_', 'event-1': '200 Y Fly', 'event-1 time': '1:40.86', 'event-2': '200 Y IM', 'event-2 time': '1:41.71', 'event-3': '100 Y Fly', 'event-3 time': '44.67'}, {'year': '2025', 'first name': 'Michael', 'last name': 'Gorey', 'country': 'Indiana Swimming', 'city': 'Carmel', 'state': ' IN', 'club': 'Carmel Swim Club', 'instagram': None, 'event-1': '400 Y IM', 'event-1 time': '3:54.82', 'event-2': '200 Y IM', 'event-2 time': '1:48.84', 'event-3': '200 Y Breast', 'event-3 time': '2:01.39'}, {'year': '2025', 'first name': 'Cameron', 'last name': 'Petitt', 'country': 'Ohio Swimming', 'city': 'Powell', 'state': ' OH', 'club': 'Buckeye Swim Club', 'instagram': 'https://instagram.com/cameron_petitt', 'event-1': '500 Y Free', 'event-1 time': '4:29.73', 'event-2': '1650 Y Free', 'event-2 time': '15:47.72', 'event-3': '200 Y Back', 'event-3 time': '1:49.04'}]\n",
      "10.405559778213501\n"
     ]
    }
   ],
   "source": [
    "main()"
   ]
  },
  {
   "cell_type": "code",
   "execution_count": null,
   "id": "fa8ee399",
   "metadata": {},
   "outputs": [],
   "source": []
  }
 ],
 "metadata": {
  "kernelspec": {
   "display_name": "Python 3 (ipykernel)",
   "language": "python",
   "name": "python3"
  },
  "language_info": {
   "codemirror_mode": {
    "name": "ipython",
    "version": 3
   },
   "file_extension": ".py",
   "mimetype": "text/x-python",
   "name": "python",
   "nbconvert_exporter": "python",
   "pygments_lexer": "ipython3",
   "version": "3.9.13"
  }
 },
 "nbformat": 4,
 "nbformat_minor": 5
}
